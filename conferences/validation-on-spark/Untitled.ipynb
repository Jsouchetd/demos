{
 "cells": [
  {
   "cell_type": "code",
   "execution_count": 1,
   "id": "d4b491c0",
   "metadata": {},
   "outputs": [],
   "source": [
    "import pandera\n",
    "import fugue\n",
    "import pandas as pd\n",
    "import numpy as np"
   ]
  },
  {
   "cell_type": "code",
   "execution_count": 2,
   "id": "62a951f7",
   "metadata": {},
   "outputs": [],
   "source": [
    "a = np.random.randint(1, 100, 1000)\n",
    "b = np.random.randint(1, 100, 1000)\n",
    "test1 = pd.DataFrame({'a':a, 'b':b})\n",
    "test2 = test1 + 100\n",
    "test1['partition'] = 'a'\n",
    "test2['partition'] = 'b'\n",
    "test = test1.append(test2)"
   ]
  },
  {
   "cell_type": "code",
   "execution_count": 3,
   "id": "3fe0935c",
   "metadata": {},
   "outputs": [],
   "source": [
    "import pandera as pa\n",
    "from pandera import Column, Check, DataFrameSchema\n",
    "\n",
    "schema_test1 = pa.DataFrameSchema({\n",
    "    \"a\": Column(pa.Int, Check.less_than(100)),\n",
    "})\n",
    "\n",
    "schema_test2 = pa.DataFrameSchema({\n",
    "    \"a\": Column(pa.Int, Check.greater_than(99))\n",
    "})\n",
    "\n",
    "partition_schema = {\"a\": schema_test1, \"b\": schema_test2}"
   ]
  },
  {
   "cell_type": "code",
   "execution_count": 4,
   "id": "aa0b62e1",
   "metadata": {},
   "outputs": [],
   "source": [
    "# schema: *\n",
    "def validator(df:pd.DataFrame) -> pd.DataFrame:\n",
    "    partition = df['partition'].iloc[0]\n",
    "    schema = partition_schema[partition]\n",
    "    schema.validate(df)\n",
    "    return df"
   ]
  },
  {
   "cell_type": "code",
   "execution_count": 5,
   "id": "68013ae0",
   "metadata": {},
   "outputs": [
    {
     "name": "stdout",
     "output_type": "stream",
     "text": [
      "SparkDataFrame\n",
      "a:long|b:long|partition:str\n",
      "------+------+-------------\n",
      "154   |118   |b            \n",
      "178   |118   |b            \n",
      "146   |164   |b            \n",
      "120   |137   |b            \n",
      "160   |125   |b            \n"
     ]
    }
   ],
   "source": [
    "from fugue import FugueWorkflow\n",
    "from fugue_spark import SparkExecutionEngine\n",
    "\n",
    "with FugueWorkflow(SparkExecutionEngine) as dag:\n",
    "    df = dag.df(test)\n",
    "    df = df.partition(by=[\"partition\"]).transform(validator)\n",
    "    df.show(5)"
   ]
  }
 ],
 "metadata": {
  "kernelspec": {
   "display_name": "Python 3",
   "language": "python",
   "name": "python3"
  },
  "language_info": {
   "codemirror_mode": {
    "name": "ipython",
    "version": 3
   },
   "file_extension": ".py",
   "mimetype": "text/x-python",
   "name": "python",
   "nbconvert_exporter": "python",
   "pygments_lexer": "ipython3",
   "version": "3.7.9"
  }
 },
 "nbformat": 4,
 "nbformat_minor": 5
}
