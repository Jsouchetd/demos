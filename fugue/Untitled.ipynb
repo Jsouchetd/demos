{
 "cells": [
  {
   "cell_type": "code",
   "execution_count": 1,
   "id": "a76d8432",
   "metadata": {},
   "outputs": [
    {
     "name": "stdout",
     "output_type": "stream",
     "text": [
      "Requirement already satisfied: pyarrow==7.0.0 in /opt/miniconda3/envs/orion/lib/python3.8/site-packages (7.0.0)\n",
      "Requirement already satisfied: numpy>=1.16.6 in /opt/miniconda3/envs/orion/lib/python3.8/site-packages (from pyarrow==7.0.0) (1.22.2)\n",
      "Collecting duckdb==0.3.2\n",
      "  Using cached duckdb-0.3.2-cp38-cp38-macosx_10_9_x86_64.whl (13.2 MB)\n",
      "Requirement already satisfied: numpy>=1.14 in /opt/miniconda3/envs/orion/lib/python3.8/site-packages (from duckdb==0.3.2) (1.22.2)\n",
      "Installing collected packages: duckdb\n",
      "Successfully installed duckdb-0.3.2\n"
     ]
    }
   ],
   "source": [
    "!pip install pyarrow==7.0.0\n",
    "!pip install duckdb==0.3.2"
   ]
  },
  {
   "cell_type": "code",
   "execution_count": 18,
   "id": "4d48d47b",
   "metadata": {},
   "outputs": [
    {
     "data": {
      "text/plain": [
       "pyarrow.Table\n",
       "ts: timestamp[ms]\n",
       "----\n",
       "ts: [[2010-01-01 18:00:00.000,1990-01-01 18:00:00.000]]"
      ]
     },
     "execution_count": 18,
     "metadata": {},
     "output_type": "execute_result"
    }
   ],
   "source": [
    "import pyarrow as pa\n",
    "from datetime import datetime, time, date\n",
    "\n",
    "t_in = pa.table(\n",
    "    data={\n",
    "        'ts': pa.array([datetime(2010, 1, 1, 18), datetime(1990, 1, 1, 18)], \n",
    "                       type=pa.timestamp(unit=\"ms\"))\n",
    "    })\n",
    "t_in"
   ]
  },
  {
   "cell_type": "code",
   "execution_count": 19,
   "id": "aeece0a7",
   "metadata": {},
   "outputs": [
    {
     "ename": "RuntimeError",
     "evalue": "Not implemented Error: Unimplemented type \"TIMESTAMP (MS)\" for Arrow Filter Pushdown",
     "output_type": "error",
     "traceback": [
      "\u001b[0;31m---------------------------------------------------------------------------\u001b[0m",
      "\u001b[0;31mRuntimeError\u001b[0m                              Traceback (most recent call last)",
      "\u001b[0;32m/var/folders/x5/f4r6ylss0k7dwh8c_0dmzd_40000gn/T/ipykernel_5238/2958388944.py\u001b[0m in \u001b[0;36m<module>\u001b[0;34m\u001b[0m\n\u001b[1;32m      3\u001b[0m \u001b[0mconn\u001b[0m \u001b[0;34m=\u001b[0m \u001b[0mduckdb\u001b[0m\u001b[0;34m.\u001b[0m\u001b[0mconnect\u001b[0m\u001b[0;34m(\u001b[0m\u001b[0;34m)\u001b[0m\u001b[0;34m\u001b[0m\u001b[0;34m\u001b[0m\u001b[0m\n\u001b[1;32m      4\u001b[0m \u001b[0mconn\u001b[0m\u001b[0;34m.\u001b[0m\u001b[0mregister\u001b[0m\u001b[0;34m(\u001b[0m\u001b[0;34m'A'\u001b[0m\u001b[0;34m,\u001b[0m \u001b[0mt_in\u001b[0m\u001b[0;34m)\u001b[0m\u001b[0;34m\u001b[0m\u001b[0;34m\u001b[0m\u001b[0m\n\u001b[0;32m----> 5\u001b[0;31m \u001b[0mres\u001b[0m \u001b[0;34m=\u001b[0m \u001b[0mconn\u001b[0m\u001b[0;34m.\u001b[0m\u001b[0mexecute\u001b[0m\u001b[0;34m(\u001b[0m\u001b[0;34m\"SELECT * FROM A WHERE ts > TIMESTAMP '2020-02-23 10:24:21.252'\"\u001b[0m\u001b[0;34m)\u001b[0m\u001b[0;34m\u001b[0m\u001b[0;34m\u001b[0m\u001b[0m\n\u001b[0m\u001b[1;32m      6\u001b[0m \u001b[0mres\u001b[0m\u001b[0;34m.\u001b[0m\u001b[0mfetch_arrow_table\u001b[0m\u001b[0;34m(\u001b[0m\u001b[0;34m)\u001b[0m\u001b[0;34m\u001b[0m\u001b[0;34m\u001b[0m\u001b[0m\n",
      "\u001b[0;31mRuntimeError\u001b[0m: Not implemented Error: Unimplemented type \"TIMESTAMP (MS)\" for Arrow Filter Pushdown"
     ]
    }
   ],
   "source": [
    "import duckdb\n",
    "\n",
    "conn = duckdb.connect()\n",
    "conn.register('A', t_in)\n",
    "res = conn.execute(\"SELECT * FROM A WHERE ts > TIMESTAMP '2020-02-23 10:24:21.252'\")\n",
    "res.fetch_arrow_table()"
   ]
  },
  {
   "cell_type": "code",
   "execution_count": null,
   "id": "9a4d6054",
   "metadata": {},
   "outputs": [],
   "source": []
  }
 ],
 "metadata": {
  "kernelspec": {
   "display_name": "Python 3 (ipykernel)",
   "language": "python",
   "name": "python3"
  },
  "language_info": {
   "codemirror_mode": {
    "name": "ipython",
    "version": 3
   },
   "file_extension": ".py",
   "mimetype": "text/x-python",
   "name": "python",
   "nbconvert_exporter": "python",
   "pygments_lexer": "ipython3",
   "version": "3.8.12"
  }
 },
 "nbformat": 4,
 "nbformat_minor": 5
}
