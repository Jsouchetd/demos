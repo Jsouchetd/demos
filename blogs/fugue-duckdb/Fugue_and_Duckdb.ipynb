{
 "cells": [
  {
   "cell_type": "markdown",
   "id": "c32ed61c",
   "metadata": {},
   "source": [
    "# Introduction\n",
    "\n",
    "It's common for data practitioners to quickly hit the limtiations of Pandas. Pandas is single-core and creates a lot of [intermediate copies](https://pandas.pydata.org/pandas-docs/stable/user_guide/scale.html#scaling-to-large-datasets) of data that increase memory usage. Even if the Pandas engine is improving, it's still not optimal to use when data size is beyond a few GBs.\n",
    "\n",
    "At this point, the advice is normally to scale Pandas using Dask (or Spark with PySpark Pandas formerly known as Koalas). This assumes users have clusters that they can port their workload to, but in smaller organizations, it may be hard to obtain such resources.\n",
    "\n",
    "This notebook/blog looks into optimizing the experience on a single by machine by developing using DuckDB and Pandas side-by-side through Fugue. DuckDB is an in-memory OLAP database that is faster than SQLLite for most data workflows because SQLLite is optimized to handle transacitons rather than aggregatations (OLTP). More information can be found on the DuckDB website [here](https://duckdb.org/). Fugue on the other hand, is an abstraction layer that ports SQL, Pandas, and native Python code to Spark and Dask. It provides the tools to seamlessly work with SQL and Pandas interactivately. For example, it adds other keywords such as `LOAD` and `SAVE` that allow working with files, and `TRANSFORM` to invoke Python functions as we'll see in this article.\n",
    "\n",
    "When data in a database is too big, it's common for data scientists to aggregate it and bring it out for further analysis in Pandas. For example, timeseries data that is second-level can be aggregated to minute-level to reduce the data by a factor of 60. By using this stack of tools, we will we able to use DuckDB to quickly process data and use Pandas for more complicated transformations to quickly prototype our workflow. Once we are ready, we can bring the execution to Spark to scale out if we have a cluster."
   ]
  },
  {
   "cell_type": "markdown",
   "id": "6c4820ff",
   "metadata": {},
   "source": [
    "# Setup\n",
    "\n",
    "First we import some setup functions for Fugue. This will let us use the `%%fsql` cell magic inside Jupyter notebooks. We'll also import the `duckdb` engine to use it with Fugue. "
   ]
  },
  {
   "cell_type": "code",
   "execution_count": 1,
   "id": "b7c2d752",
   "metadata": {},
   "outputs": [
    {
     "data": {
      "application/javascript": [
       "\n",
       "require([\"codemirror/lib/codemirror\"]);\n",
       "function set(str) {\n",
       "    var obj = {}, words = str.split(\" \");\n",
       "    for (var i = 0; i < words.length; ++i) obj[words[i]] = true;\n",
       "    return obj;\n",
       "  }\n",
       "var fugue_keywords = \"fill hash rand even presort persist broadcast params process output outtransform rowcount concurrency prepartition zip print title save append parquet csv json single checkpoint weak strong deterministic yield connect sample seed take sub callback dataframe file\";\n",
       "CodeMirror.defineMIME(\"text/x-fsql\", {\n",
       "    name: \"sql\",\n",
       "    keywords: set(fugue_keywords + \" add after all alter analyze and anti archive array as asc at between bucket buckets by cache cascade case cast change clear cluster clustered codegen collection column columns comment commit compact compactions compute concatenate cost create cross cube current current_date current_timestamp database databases data dbproperties defined delete delimited deny desc describe dfs directories distinct distribute drop else end escaped except exchange exists explain export extended external false fields fileformat first following for format formatted from full function functions global grant group grouping having if ignore import in index indexes inner inpath inputformat insert intersect interval into is items join keys last lateral lazy left like limit lines list load local location lock locks logical macro map minus msck natural no not null nulls of on optimize option options or order out outer outputformat over overwrite partition partitioned partitions percent preceding principals purge range recordreader recordwriter recover reduce refresh regexp rename repair replace reset restrict revoke right rlike role roles rollback rollup row rows schema schemas select semi separated serde serdeproperties set sets show skewed sort sorted start statistics stored stratify struct table tables tablesample tblproperties temp temporary terminated then to touch transaction transactions transform true truncate unarchive unbounded uncache union unlock unset use using values view when where window with\"),\n",
       "    builtin: set(\"date datetime tinyint smallint int bigint boolean float double string binary timestamp decimal array map struct uniontype delimited serde sequencefile textfile rcfile inputformat outputformat\"),\n",
       "    atoms: set(\"false true null\"),\n",
       "    operatorChars: /^[*\\/+\\-%<>!=~&|^]/,\n",
       "    dateSQL: set(\"time\"),\n",
       "    support: set(\"ODBCdotTable doubleQuote zerolessFloat\")\n",
       "  });\n",
       "\n",
       "CodeMirror.modeInfo.push( {\n",
       "            name: \"Fugue SQL\",\n",
       "            mime: \"text/x-fsql\",\n",
       "            mode: \"sql\"\n",
       "          } );\n",
       "\n",
       "require(['notebook/js/codecell'], function(codecell) {\n",
       "    codecell.CodeCell.options_default.highlight_modes['magic_text/x-fsql'] = {'reg':[/%%fsql/]} ;\n",
       "    Jupyter.notebook.events.on('kernel_ready.Kernel', function(){\n",
       "    Jupyter.notebook.get_cells().map(function(cell){\n",
       "        if (cell.cell_type == 'code'){ cell.auto_highlight(); } }) ;\n",
       "    });\n",
       "  });\n"
      ],
      "text/plain": [
       "<IPython.core.display.Javascript object>"
      ]
     },
     "metadata": {},
     "output_type": "display_data"
    }
   ],
   "source": [
    "from fugue_notebook import setup\n",
    "import fugue_duckdb\n",
    "\n",
    "setup()"
   ]
  },
  {
   "cell_type": "markdown",
   "id": "e5dd1260",
   "metadata": {},
   "source": [
    "## Other Imports"
   ]
  },
  {
   "cell_type": "code",
   "execution_count": 2,
   "id": "6a7a9f76",
   "metadata": {},
   "outputs": [],
   "source": [
    "import os\n",
    "import glob\n",
    "import pandas as pd\n",
    "\n",
    "from fugue_sql import fsql"
   ]
  },
  {
   "cell_type": "markdown",
   "id": "1752b717",
   "metadata": {},
   "source": [
    "# Data\n",
    "\n",
    "This notebook will use the Binance Crypto Kittens dataset. This can be downloaded from [Kaggle](https://www.kaggle.com/binance/binance-crypto-klines) available through the Creative Commons License. We will unzip this and save this in a folder called `crypto-binance` alongside our code.\n",
    "\n",
    "It is over 1000 distinct files and totals over 5GB. The files are partitioned by month-year."
   ]
  },
  {
   "cell_type": "code",
   "execution_count": 3,
   "id": "508732c9",
   "metadata": {},
   "outputs": [
    {
     "data": {
      "text/plain": [
       "['.DS_Store', '01-2018', '11-2017', '12-2017', '02-2018', '03-2018']"
      ]
     },
     "execution_count": 3,
     "metadata": {},
     "output_type": "execute_result"
    }
   ],
   "source": [
    "os.listdir(\"crypto-binance\")"
   ]
  },
  {
   "cell_type": "markdown",
   "id": "7ad35cde",
   "metadata": {},
   "source": [
    "Going into one of these folders, we can take a look at the files inside."
   ]
  },
  {
   "cell_type": "code",
   "execution_count": 4,
   "id": "0e5d7547",
   "metadata": {},
   "outputs": [
    {
     "data": {
      "text/plain": [
       "['RDNETH.csv',\n",
       " 'LSKBTC.csv',\n",
       " 'ICXBNB.csv',\n",
       " 'POEETH.csv',\n",
       " 'EDOETH.csv',\n",
       " 'GTOBNB.csv',\n",
       " 'MANAETH.csv',\n",
       " 'VIBETH.csv',\n",
       " 'ZECETH.csv',\n",
       " 'TRXETH.csv']"
      ]
     },
     "execution_count": 4,
     "metadata": {},
     "output_type": "execute_result"
    }
   ],
   "source": [
    "os.listdir(\"crypto-binance/01-2018/01-2018\")[0:10]"
   ]
  },
  {
   "cell_type": "markdown",
   "id": "05801d48",
   "metadata": {},
   "source": [
    "We can see the schema by reading one of them. No need to understand what the columns are if they are not familiar. The point is that we have over 1000 files that have the same schema."
   ]
  },
  {
   "cell_type": "code",
   "execution_count": 5,
   "id": "e5a654fb",
   "metadata": {},
   "outputs": [
    {
     "data": {
      "text/html": [
       "<div>\n",
       "<style scoped>\n",
       "    .dataframe tbody tr th:only-of-type {\n",
       "        vertical-align: middle;\n",
       "    }\n",
       "\n",
       "    .dataframe tbody tr th {\n",
       "        vertical-align: top;\n",
       "    }\n",
       "\n",
       "    .dataframe thead th {\n",
       "        text-align: right;\n",
       "    }\n",
       "</style>\n",
       "<table border=\"1\" class=\"dataframe\">\n",
       "  <thead>\n",
       "    <tr style=\"text-align: right;\">\n",
       "      <th></th>\n",
       "      <th>Open_time</th>\n",
       "      <th>Open</th>\n",
       "      <th>High</th>\n",
       "      <th>Low</th>\n",
       "      <th>Close</th>\n",
       "      <th>Volume</th>\n",
       "      <th>Close_time</th>\n",
       "      <th>Quote_asset_volume</th>\n",
       "      <th>Number_of_trades</th>\n",
       "      <th>Taker_buy_base_asset_volume</th>\n",
       "      <th>Taker_buy_quote_asset_volume</th>\n",
       "    </tr>\n",
       "  </thead>\n",
       "  <tbody>\n",
       "    <tr>\n",
       "      <th>0</th>\n",
       "      <td>1514764800000</td>\n",
       "      <td>0.005738</td>\n",
       "      <td>0.005738</td>\n",
       "      <td>0.005738</td>\n",
       "      <td>0.005738</td>\n",
       "      <td>6.0</td>\n",
       "      <td>1514764859999</td>\n",
       "      <td>0.034430</td>\n",
       "      <td>1</td>\n",
       "      <td>0.0</td>\n",
       "      <td>0.00000</td>\n",
       "    </tr>\n",
       "    <tr>\n",
       "      <th>1</th>\n",
       "      <td>1514764860000</td>\n",
       "      <td>0.005738</td>\n",
       "      <td>0.005738</td>\n",
       "      <td>0.005738</td>\n",
       "      <td>0.005738</td>\n",
       "      <td>0.0</td>\n",
       "      <td>1514764919999</td>\n",
       "      <td>0.000000</td>\n",
       "      <td>0</td>\n",
       "      <td>0.0</td>\n",
       "      <td>0.00000</td>\n",
       "    </tr>\n",
       "    <tr>\n",
       "      <th>2</th>\n",
       "      <td>1514764920000</td>\n",
       "      <td>0.005804</td>\n",
       "      <td>0.005804</td>\n",
       "      <td>0.005738</td>\n",
       "      <td>0.005778</td>\n",
       "      <td>861.0</td>\n",
       "      <td>1514764979999</td>\n",
       "      <td>4.976309</td>\n",
       "      <td>12</td>\n",
       "      <td>545.0</td>\n",
       "      <td>3.16295</td>\n",
       "    </tr>\n",
       "    <tr>\n",
       "      <th>3</th>\n",
       "      <td>1514764980000</td>\n",
       "      <td>0.005803</td>\n",
       "      <td>0.005803</td>\n",
       "      <td>0.005803</td>\n",
       "      <td>0.005803</td>\n",
       "      <td>271.0</td>\n",
       "      <td>1514765039999</td>\n",
       "      <td>1.572640</td>\n",
       "      <td>1</td>\n",
       "      <td>271.0</td>\n",
       "      <td>1.57264</td>\n",
       "    </tr>\n",
       "    <tr>\n",
       "      <th>4</th>\n",
       "      <td>1514765040000</td>\n",
       "      <td>0.005778</td>\n",
       "      <td>0.005803</td>\n",
       "      <td>0.005778</td>\n",
       "      <td>0.005778</td>\n",
       "      <td>1360.0</td>\n",
       "      <td>1514765099999</td>\n",
       "      <td>7.865015</td>\n",
       "      <td>5</td>\n",
       "      <td>271.0</td>\n",
       "      <td>1.57264</td>\n",
       "    </tr>\n",
       "  </tbody>\n",
       "</table>\n",
       "</div>"
      ],
      "text/plain": [
       "       Open_time      Open      High       Low     Close  Volume  \\\n",
       "0  1514764800000  0.005738  0.005738  0.005738  0.005738     6.0   \n",
       "1  1514764860000  0.005738  0.005738  0.005738  0.005738     0.0   \n",
       "2  1514764920000  0.005804  0.005804  0.005738  0.005778   861.0   \n",
       "3  1514764980000  0.005803  0.005803  0.005803  0.005803   271.0   \n",
       "4  1514765040000  0.005778  0.005803  0.005778  0.005778  1360.0   \n",
       "\n",
       "      Close_time  Quote_asset_volume  Number_of_trades  \\\n",
       "0  1514764859999            0.034430                 1   \n",
       "1  1514764919999            0.000000                 0   \n",
       "2  1514764979999            4.976309                12   \n",
       "3  1514765039999            1.572640                 1   \n",
       "4  1514765099999            7.865015                 5   \n",
       "\n",
       "   Taker_buy_base_asset_volume  Taker_buy_quote_asset_volume  \n",
       "0                          0.0                       0.00000  \n",
       "1                          0.0                       0.00000  \n",
       "2                        545.0                       3.16295  \n",
       "3                        271.0                       1.57264  \n",
       "4                        271.0                       1.57264  "
      ]
     },
     "execution_count": 5,
     "metadata": {},
     "output_type": "execute_result"
    }
   ],
   "source": [
    "df = pd.read_csv(\"crypto-binance/01-2018/01-2018/RDNETH.csv\")\n",
    "df.head()"
   ]
  },
  {
   "cell_type": "markdown",
   "id": "6e622735",
   "metadata": {},
   "source": [
    "It's not practical to work with these files individually so we need to combine them. The problem is then that we can't distinguish the contents of each file because the identifier of the data is the filename. We'll start by combining these files, adding the filename as a column, and then saving it out."
   ]
  },
  {
   "cell_type": "markdown",
   "id": "fdfd03b5",
   "metadata": {},
   "source": [
    "# Preprocessing\n",
    "\n",
    "For the bigger file, we will use the parquet file format because it is roughly 20% the size of CSV, holds schema, and is a column-based storage so it can optimize data access. Parquet tends to be better than CSVs, especially for big data.\n",
    "\n",
    "We have two approaches we can use to combine all of the small files into a bigger file. The first is using Pandas. The standard way is to append all the small DataFrames into a list, and then use `pd.concat` to combine all of them."
   ]
  },
  {
   "cell_type": "markdown",
   "id": "f1ee5c1d",
   "metadata": {},
   "source": [
    "## Using Pandas\n",
    "\n",
    "We'll see that this operation takes 1 minute and 15 seconds."
   ]
  },
  {
   "cell_type": "code",
   "execution_count": 6,
   "id": "ea54512e",
   "metadata": {},
   "outputs": [
    {
     "name": "stdout",
     "output_type": "stream",
     "text": [
      "CPU times: user 1min 8s, sys: 16.3 s, total: 1min 24s\n",
      "Wall time: 1min 37s\n"
     ]
    }
   ],
   "source": [
    "%%time\n",
    "def process_files_pandas():\n",
    "    filenames = glob.glob(\"crypto-binance/*/*/\" + \"*.csv\")\n",
    "    dfs = []\n",
    "    for filename in filenames:\n",
    "        df = pd.read_csv(filename)\n",
    "        df['symbol'] = filename.split('/')[-1].split('.')[0]\n",
    "        df['time'] = pd.to_datetime(df['Open_time'], unit='ms')\n",
    "        df = df.drop(['Open_time'], axis=1)\n",
    "        dfs.append(df)\n",
    "\n",
    "    # Concatenate all data into one DataFrame\n",
    "    big_frame = pd.concat(dfs, ignore_index=True)\n",
    "    big_frame.to_parquet(\"/Users/kevinkho/work/demos/blogs/fugue-duckdb/raw.parquet\")\n",
    "    \n",
    "process_files_pandas()"
   ]
  },
  {
   "cell_type": "markdown",
   "id": "d307ce69",
   "metadata": {},
   "source": [
    "## DuckDB\n",
    "\n",
    "Now, we can trying using DuckDB to perform the operation. The `%%fsql duck` lets us use DuckDB as a backend through FugueSQL. `LOAD`, `SAVE`, and `DROP COLUMNS` are FugueSQL keywords that get converted to the equivalent DuckDB code. It also accepts the keyword arguments that DuckDB can take when reading files. In this case, we are using the `FILENAME` keyword to add a new column that contains the filename."
   ]
  },
  {
   "cell_type": "code",
   "execution_count": 7,
   "id": "85921e21",
   "metadata": {},
   "outputs": [],
   "source": [
    "%%fsql duck\n",
    "LOAD \"crypto-binance/*/*/*.csv\"(header=true,infer_schema=true, FILENAME=1)\n",
    "SELECT epoch_ms(Open_time) AS time, string_split(string_split(filename, '/')[-1],'.')[0] AS symbol,*\n",
    "DROP COLUMNS Open_time, filename\n",
    "SAVE OVERWRITE \"/Users/kevinkho/work/demos/blogs/fugue-duckdb/raw.parquet\""
   ]
  },
  {
   "cell_type": "markdown",
   "id": "379766e7",
   "metadata": {},
   "source": [
    "We can't use `%%time` with the `%%fsql` cell magic so we need to wrap the query and pass it to `fsql` instead, which is what the `%%fsql` operator does under the hood. By timing the operation, we actually see that Pandas was faster. DuckDB takes around 4 minutes and 20 seconds to perform the same operation. In reality, this is a one-time preprocessing step so it's better to just use whatever tool allows the user to achieve it faster."
   ]
  },
  {
   "cell_type": "code",
   "execution_count": 8,
   "id": "7e9ea0e3",
   "metadata": {},
   "outputs": [
    {
     "name": "stdout",
     "output_type": "stream",
     "text": [
      "CPU times: user 2 µs, sys: 0 ns, total: 2 µs\n",
      "Wall time: 4.77 µs\n"
     ]
    }
   ],
   "source": [
    "%%time\n",
    "query = \"\"\"\n",
    "        LOAD \"crypto-binance/*/*/*.csv\"(header=true,infer_schema=true, FILENAME=1)\n",
    "        SELECT epoch_ms(Open_time) AS time, string_split(string_split(filename, '/')[-1],'.')[0] AS symbol,*\n",
    "        DROP COLUMNS Open_time, filename\n",
    "        SAVE OVERWRITE \"/Users/kevinkho/work/demos/blogs/fugue-duckdb/raw.parquet\"\n",
    "        \"\"\"\n",
    "# For Khuyen, I commented this line so we don't re-run the query above because it takes 4 mins.\n",
    "# fsql(query).run(\"duckdb\")"
   ]
  },
  {
   "cell_type": "markdown",
   "id": "65c8fd45",
   "metadata": {},
   "source": [
    "To test that the transformation was successful, we can open the file and `PRINT` a few rows. "
   ]
  },
  {
   "cell_type": "code",
   "execution_count": 9,
   "id": "9d39f04f",
   "metadata": {},
   "outputs": [
    {
     "data": {
      "text/html": [
       "<div>\n",
       "<style scoped>\n",
       "    .dataframe tbody tr th:only-of-type {\n",
       "        vertical-align: middle;\n",
       "    }\n",
       "\n",
       "    .dataframe tbody tr th {\n",
       "        vertical-align: top;\n",
       "    }\n",
       "\n",
       "    .dataframe thead th {\n",
       "        text-align: right;\n",
       "    }\n",
       "</style>\n",
       "<table border=\"1\" class=\"dataframe\">\n",
       "  <thead>\n",
       "    <tr style=\"text-align: right;\">\n",
       "      <th></th>\n",
       "      <th>time</th>\n",
       "      <th>symbol</th>\n",
       "      <th>Open</th>\n",
       "      <th>High</th>\n",
       "      <th>Low</th>\n",
       "      <th>Close</th>\n",
       "      <th>Volume</th>\n",
       "      <th>Close_time</th>\n",
       "      <th>Quote_asset_volume</th>\n",
       "      <th>Number_of_trades</th>\n",
       "      <th>Taker_buy_base_asset_volume</th>\n",
       "      <th>Taker_buy_quote_asset_volume</th>\n",
       "    </tr>\n",
       "  </thead>\n",
       "  <tbody>\n",
       "    <tr>\n",
       "      <th>0</th>\n",
       "      <td>2018-01-01 00:00:00</td>\n",
       "      <td>RDNETH</td>\n",
       "      <td>0.005738</td>\n",
       "      <td>0.005738</td>\n",
       "      <td>0.005738</td>\n",
       "      <td>0.005738</td>\n",
       "      <td>6.0</td>\n",
       "      <td>1514764859999</td>\n",
       "      <td>0.034430</td>\n",
       "      <td>1</td>\n",
       "      <td>0.0</td>\n",
       "      <td>0.000000</td>\n",
       "    </tr>\n",
       "    <tr>\n",
       "      <th>1</th>\n",
       "      <td>2018-01-01 00:01:00</td>\n",
       "      <td>RDNETH</td>\n",
       "      <td>0.005738</td>\n",
       "      <td>0.005738</td>\n",
       "      <td>0.005738</td>\n",
       "      <td>0.005738</td>\n",
       "      <td>0.0</td>\n",
       "      <td>1514764919999</td>\n",
       "      <td>0.000000</td>\n",
       "      <td>0</td>\n",
       "      <td>0.0</td>\n",
       "      <td>0.000000</td>\n",
       "    </tr>\n",
       "    <tr>\n",
       "      <th>2</th>\n",
       "      <td>2018-01-01 00:02:00</td>\n",
       "      <td>RDNETH</td>\n",
       "      <td>0.005804</td>\n",
       "      <td>0.005804</td>\n",
       "      <td>0.005738</td>\n",
       "      <td>0.005778</td>\n",
       "      <td>861.0</td>\n",
       "      <td>1514764979999</td>\n",
       "      <td>4.976309</td>\n",
       "      <td>12</td>\n",
       "      <td>545.0</td>\n",
       "      <td>3.162950</td>\n",
       "    </tr>\n",
       "    <tr>\n",
       "      <th>3</th>\n",
       "      <td>2018-01-01 00:03:00</td>\n",
       "      <td>RDNETH</td>\n",
       "      <td>0.005803</td>\n",
       "      <td>0.005803</td>\n",
       "      <td>0.005803</td>\n",
       "      <td>0.005803</td>\n",
       "      <td>271.0</td>\n",
       "      <td>1514765039999</td>\n",
       "      <td>1.572640</td>\n",
       "      <td>1</td>\n",
       "      <td>271.0</td>\n",
       "      <td>1.572640</td>\n",
       "    </tr>\n",
       "    <tr>\n",
       "      <th>4</th>\n",
       "      <td>2018-01-01 00:04:00</td>\n",
       "      <td>RDNETH</td>\n",
       "      <td>0.005778</td>\n",
       "      <td>0.005803</td>\n",
       "      <td>0.005778</td>\n",
       "      <td>0.005778</td>\n",
       "      <td>1360.0</td>\n",
       "      <td>1514765099999</td>\n",
       "      <td>7.865015</td>\n",
       "      <td>5</td>\n",
       "      <td>271.0</td>\n",
       "      <td>1.572640</td>\n",
       "    </tr>\n",
       "    <tr>\n",
       "      <th>5</th>\n",
       "      <td>2018-01-01 00:05:00</td>\n",
       "      <td>RDNETH</td>\n",
       "      <td>0.005800</td>\n",
       "      <td>0.005800</td>\n",
       "      <td>0.005778</td>\n",
       "      <td>0.005778</td>\n",
       "      <td>687.0</td>\n",
       "      <td>1514765159999</td>\n",
       "      <td>3.973886</td>\n",
       "      <td>3</td>\n",
       "      <td>0.0</td>\n",
       "      <td>0.000000</td>\n",
       "    </tr>\n",
       "    <tr>\n",
       "      <th>6</th>\n",
       "      <td>2018-01-01 00:06:00</td>\n",
       "      <td>RDNETH</td>\n",
       "      <td>0.005778</td>\n",
       "      <td>0.005778</td>\n",
       "      <td>0.005753</td>\n",
       "      <td>0.005753</td>\n",
       "      <td>1730.0</td>\n",
       "      <td>1514765219999</td>\n",
       "      <td>9.994557</td>\n",
       "      <td>7</td>\n",
       "      <td>53.0</td>\n",
       "      <td>0.304925</td>\n",
       "    </tr>\n",
       "    <tr>\n",
       "      <th>7</th>\n",
       "      <td>2018-01-01 00:07:00</td>\n",
       "      <td>RDNETH</td>\n",
       "      <td>0.005753</td>\n",
       "      <td>0.005753</td>\n",
       "      <td>0.005703</td>\n",
       "      <td>0.005744</td>\n",
       "      <td>1290.0</td>\n",
       "      <td>1514765279999</td>\n",
       "      <td>7.380107</td>\n",
       "      <td>14</td>\n",
       "      <td>631.0</td>\n",
       "      <td>3.620001</td>\n",
       "    </tr>\n",
       "    <tr>\n",
       "      <th>8</th>\n",
       "      <td>2018-01-01 00:08:00</td>\n",
       "      <td>RDNETH</td>\n",
       "      <td>0.005743</td>\n",
       "      <td>0.005750</td>\n",
       "      <td>0.005743</td>\n",
       "      <td>0.005750</td>\n",
       "      <td>197.0</td>\n",
       "      <td>1514765339999</td>\n",
       "      <td>1.131479</td>\n",
       "      <td>6</td>\n",
       "      <td>197.0</td>\n",
       "      <td>1.131479</td>\n",
       "    </tr>\n",
       "    <tr>\n",
       "      <th>9</th>\n",
       "      <td>2018-01-01 00:09:00</td>\n",
       "      <td>RDNETH</td>\n",
       "      <td>0.005750</td>\n",
       "      <td>0.005750</td>\n",
       "      <td>0.005750</td>\n",
       "      <td>0.005750</td>\n",
       "      <td>0.0</td>\n",
       "      <td>1514765399999</td>\n",
       "      <td>0.000000</td>\n",
       "      <td>0</td>\n",
       "      <td>0.0</td>\n",
       "      <td>0.000000</td>\n",
       "    </tr>\n",
       "  </tbody>\n",
       "</table>\n",
       "</div>"
      ],
      "text/plain": [
       "                 time  symbol      Open      High       Low     Close  Volume  \\\n",
       "0 2018-01-01 00:00:00  RDNETH  0.005738  0.005738  0.005738  0.005738     6.0   \n",
       "1 2018-01-01 00:01:00  RDNETH  0.005738  0.005738  0.005738  0.005738     0.0   \n",
       "2 2018-01-01 00:02:00  RDNETH  0.005804  0.005804  0.005738  0.005778   861.0   \n",
       "3 2018-01-01 00:03:00  RDNETH  0.005803  0.005803  0.005803  0.005803   271.0   \n",
       "4 2018-01-01 00:04:00  RDNETH  0.005778  0.005803  0.005778  0.005778  1360.0   \n",
       "5 2018-01-01 00:05:00  RDNETH  0.005800  0.005800  0.005778  0.005778   687.0   \n",
       "6 2018-01-01 00:06:00  RDNETH  0.005778  0.005778  0.005753  0.005753  1730.0   \n",
       "7 2018-01-01 00:07:00  RDNETH  0.005753  0.005753  0.005703  0.005744  1290.0   \n",
       "8 2018-01-01 00:08:00  RDNETH  0.005743  0.005750  0.005743  0.005750   197.0   \n",
       "9 2018-01-01 00:09:00  RDNETH  0.005750  0.005750  0.005750  0.005750     0.0   \n",
       "\n",
       "      Close_time  Quote_asset_volume  Number_of_trades  \\\n",
       "0  1514764859999            0.034430                 1   \n",
       "1  1514764919999            0.000000                 0   \n",
       "2  1514764979999            4.976309                12   \n",
       "3  1514765039999            1.572640                 1   \n",
       "4  1514765099999            7.865015                 5   \n",
       "5  1514765159999            3.973886                 3   \n",
       "6  1514765219999            9.994557                 7   \n",
       "7  1514765279999            7.380107                14   \n",
       "8  1514765339999            1.131479                 6   \n",
       "9  1514765399999            0.000000                 0   \n",
       "\n",
       "   Taker_buy_base_asset_volume  Taker_buy_quote_asset_volume  \n",
       "0                          0.0                      0.000000  \n",
       "1                          0.0                      0.000000  \n",
       "2                        545.0                      3.162950  \n",
       "3                        271.0                      1.572640  \n",
       "4                        271.0                      1.572640  \n",
       "5                          0.0                      0.000000  \n",
       "6                         53.0                      0.304925  \n",
       "7                        631.0                      3.620001  \n",
       "8                        197.0                      1.131479  \n",
       "9                          0.0                      0.000000  "
      ]
     },
     "metadata": {},
     "output_type": "display_data"
    },
    {
     "data": {
      "text/html": [
       "<small>schema: time:datetime,symbol:str,Open:double,High:double,Low:double,Close:double,Volume:double,Close_time:long,Quote_asset_volume:double,Number_of_trades:int,Taker_buy_base_asset_volume:double,Taker_buy_quote_asset_volume:double</small>"
      ],
      "text/plain": [
       "<IPython.core.display.HTML object>"
      ]
     },
     "metadata": {},
     "output_type": "display_data"
    },
    {
     "name": "stdout",
     "output_type": "stream",
     "text": [
      "CPU times: user 57.9 ms, sys: 16 ms, total: 73.9 ms\n",
      "Wall time: 156 ms\n"
     ]
    },
    {
     "data": {
      "text/plain": [
       "DataFrames()"
      ]
     },
     "execution_count": 9,
     "metadata": {},
     "output_type": "execute_result"
    }
   ],
   "source": [
    "%%time\n",
    "query = \"\"\"\n",
    "LOAD \"/Users/kevinkho/work/demos/blogs/fugue-duckdb/raw.parquet\"\n",
    "PRINT\n",
    "\"\"\"\n",
    "fsql(query).run(\"duckdb\")"
   ]
  },
  {
   "cell_type": "markdown",
   "id": "6a181101",
   "metadata": {},
   "source": [
    "This executes in 200 ms. If you remove `\"duckdb\"` and use the default Pandas-based engine, it will take around 25 seconds. Why is `duckdb` so much faster? This is because it uses lazy evaluation. The `PRINT` statement returns a default of 10 records. `duckdb` will know that only 10 records are needed by the end result, so it only fetches those records. On the other hand, Pandas is executed eagerly, meaning the entire file is loaded in and then the operation to fetch the first 10 rows isran.\n",
    "\n",
    "This point is important in thinking about the use cases where `duckdb` can be the preferred engine. We can perform filters and fetch only the data we need before bringing it to Pandas to limit the data transfer and speed up execution time."
   ]
  },
  {
   "cell_type": "markdown",
   "id": "61a63d87",
   "metadata": {},
   "source": [
    "## Processing\n",
    "\n",
    "The data we started with is now compressed into a parquet file. We can load from this directly. Again, using DuckDB's lazy evaluation, we can apply filters and aggregates before we bring the data to Python. The query below executes in a few seconds (nowhere near the 20+ it takes for Pandas to load). From here on out, we will be less concerned with execution time because `duckdb` will be significantly faster for a lot of operations."
   ]
  },
  {
   "cell_type": "code",
   "execution_count": 10,
   "id": "26a1b60b",
   "metadata": {},
   "outputs": [
    {
     "data": {
      "text/html": [
       "<div>\n",
       "<style scoped>\n",
       "    .dataframe tbody tr th:only-of-type {\n",
       "        vertical-align: middle;\n",
       "    }\n",
       "\n",
       "    .dataframe tbody tr th {\n",
       "        vertical-align: top;\n",
       "    }\n",
       "\n",
       "    .dataframe thead th {\n",
       "        text-align: right;\n",
       "    }\n",
       "</style>\n",
       "<table border=\"1\" class=\"dataframe\">\n",
       "  <thead>\n",
       "    <tr style=\"text-align: right;\">\n",
       "      <th></th>\n",
       "      <th>symbol</th>\n",
       "      <th>trades</th>\n",
       "    </tr>\n",
       "  </thead>\n",
       "  <tbody>\n",
       "    <tr>\n",
       "      <th>0</th>\n",
       "      <td>BTCUSDT</td>\n",
       "      <td>204608.145695</td>\n",
       "    </tr>\n",
       "    <tr>\n",
       "      <th>1</th>\n",
       "      <td>ETHUSDT</td>\n",
       "      <td>121244.543046</td>\n",
       "    </tr>\n",
       "    <tr>\n",
       "      <th>2</th>\n",
       "      <td>LTCUSDT</td>\n",
       "      <td>50804.761468</td>\n",
       "    </tr>\n",
       "  </tbody>\n",
       "</table>\n",
       "</div>"
      ],
      "text/plain": [
       "    symbol         trades\n",
       "0  BTCUSDT  204608.145695\n",
       "1  ETHUSDT  121244.543046\n",
       "2  LTCUSDT   50804.761468"
      ]
     },
     "metadata": {},
     "output_type": "display_data"
    },
    {
     "data": {
      "text/html": [
       "<small>schema: symbol:str,trades:double</small>"
      ],
      "text/plain": [
       "<IPython.core.display.HTML object>"
      ]
     },
     "metadata": {},
     "output_type": "display_data"
    }
   ],
   "source": [
    "%%fsql duck\n",
    "LOAD \"/Users/kevinkho/work/demos/blogs/fugue-duckdb/raw.parquet\"\n",
    "SELECT * WHERE symbol LIKE '%USDT'\n",
    "SELECT symbol, date_trunc('day',time) AS date, SUM(Number_of_trades) AS trades GROUP BY 1,2\n",
    "SELECT symbol, AVG(trades) AS trades GROUP BY 1 ORDER BY 2 DESC LIMIT 3\n",
    "YIELD DATAFRAME AS top_symbols\n",
    "PRINT"
   ]
  },
  {
   "cell_type": "markdown",
   "id": "4cd1c59b",
   "metadata": {},
   "source": [
    "For people familiar with SQL, it may be confusing that there are multiple `SELECT` statements. FugueSQL allows for multiple `SELECT` statements similar to SQL temp tables. This allows the code to be read top-down and eliminates a for of boilerplate code. If `FROM` is not specified, the SQL statement uses the last DataFrame from the stack. So in order this previous code:\n",
    "\n",
    "1. Loads the file\n",
    "2. Filters for the entries there the symbol contains USDT\n",
    "3. Sums the number of trades grouped by symbol and date\n",
    "4. Gets the average daily trades for each symbol and gets the 3 most traded\n",
    "5. Uses the YIELD keyword to output this as a Python DataFrame\n",
    "\n",
    "For those that prefer explicit variable assignment, the syntax below is also accepted.\n",
    "\n",
    "```\n",
    "df = LOAD \"/Users/kevinkho/work/demos/blogs/fugue-duckdb/raw.parquet\"\n",
    "df2 = SELECT * FROM df WHERE symbol LIKE '%USDT'\n",
    "SELECT symbol, date_trunc('day',time) AS date, SUM(Number_of_trades) AS trades FROM df2 GROUP BY 1,2\n",
    "```\n",
    "\n",
    "and so on. Using the previous Dataframe in the stack automatically is called [anonimity](https://fugue-tutorials.readthedocs.io/tutorials/fugue_sql/syntax.html#anonymity), and can be mixed and matched with the variable assignment syntax."
   ]
  },
  {
   "cell_type": "markdown",
   "id": "f8914541",
   "metadata": {},
   "source": [
    "## Using a YIELDED DataFrame\n",
    "\n",
    "FugueSQL uses the YIELD keyword to output a DataFrame to be used in a future FugueSQL query or in Python. Multiple DataFrames can be YIELDED in a query. By using `as_pandas()`, we can bring convert `top_symbols` to Pandas, and then use Pandas operations on it such as `head()`."
   ]
  },
  {
   "cell_type": "code",
   "execution_count": 11,
   "id": "258bf30e",
   "metadata": {},
   "outputs": [
    {
     "data": {
      "text/html": [
       "<div>\n",
       "<style scoped>\n",
       "    .dataframe tbody tr th:only-of-type {\n",
       "        vertical-align: middle;\n",
       "    }\n",
       "\n",
       "    .dataframe tbody tr th {\n",
       "        vertical-align: top;\n",
       "    }\n",
       "\n",
       "    .dataframe thead th {\n",
       "        text-align: right;\n",
       "    }\n",
       "</style>\n",
       "<table border=\"1\" class=\"dataframe\">\n",
       "  <thead>\n",
       "    <tr style=\"text-align: right;\">\n",
       "      <th></th>\n",
       "      <th>symbol</th>\n",
       "      <th>trades</th>\n",
       "    </tr>\n",
       "  </thead>\n",
       "  <tbody>\n",
       "    <tr>\n",
       "      <th>0</th>\n",
       "      <td>BTCUSDT</td>\n",
       "      <td>204608.145695</td>\n",
       "    </tr>\n",
       "    <tr>\n",
       "      <th>1</th>\n",
       "      <td>ETHUSDT</td>\n",
       "      <td>121244.543046</td>\n",
       "    </tr>\n",
       "    <tr>\n",
       "      <th>2</th>\n",
       "      <td>LTCUSDT</td>\n",
       "      <td>50804.761468</td>\n",
       "    </tr>\n",
       "  </tbody>\n",
       "</table>\n",
       "</div>"
      ],
      "text/plain": [
       "    symbol         trades\n",
       "0  BTCUSDT  204608.145695\n",
       "1  ETHUSDT  121244.543046\n",
       "2  LTCUSDT   50804.761468"
      ]
     },
     "execution_count": 11,
     "metadata": {},
     "output_type": "execute_result"
    }
   ],
   "source": [
    "top_symbols.as_pandas().head()"
   ]
  },
  {
   "cell_type": "markdown",
   "id": "f38f454b",
   "metadata": {},
   "source": [
    "We can also use the YIELDED `top_symbols` dataframe in following FugueSQL code blocks as well. Now that we know the most traded symbols, we can filter for them from the original file by doing an inner join. Again, because of the lazy evaluation, this returns a much smaller dataset than the original when it is brought to Python.\n",
    "\n",
    "Notice in this case we use the variable assignment syntax. This is because we need to specify table names when we `JOIN`"
   ]
  },
  {
   "cell_type": "code",
   "execution_count": 12,
   "id": "42e85365",
   "metadata": {},
   "outputs": [],
   "source": [
    "%%fsql duck\n",
    "src = LOAD \"/Users/kevinkho/work/demos/blogs/fugue-duckdb/raw.parquet\"\n",
    "SELECT src.* FROM src INNER JOIN top_symbols ON src.symbol = top_symbols.symbol\n",
    "YIELD DATAFRAME AS top_data"
   ]
  },
  {
   "cell_type": "markdown",
   "id": "6c3dfed3",
   "metadata": {},
   "source": [
    "## Using a Python extension - OUTPUT\n",
    "\n",
    "One of the strengths of using Fugue and DuckDB together is the ability to add Python logic through extensions. These extensions can then be invoked by SQL code. For example, we create a plotting function."
   ]
  },
  {
   "cell_type": "code",
   "execution_count": 13,
   "id": "47988682",
   "metadata": {},
   "outputs": [],
   "source": [
    "def plot_by(df:pd.DataFrame, by, y) -> None:\n",
    "    for name, group in df.groupby(by):\n",
    "        group.plot(x=\"time\", y=y, title=name)"
   ]
  },
  {
   "cell_type": "markdown",
   "id": "3ad68718",
   "metadata": {},
   "source": [
    "Now we can use this function by using the FugueSQL `OUTPUT` keyword. This will bring the data from `DuckDB` to Python and execute the `plot_by` function."
   ]
  },
  {
   "cell_type": "code",
   "execution_count": 14,
   "id": "6028bd5e",
   "metadata": {},
   "outputs": [
    {
     "data": {
      "image/png": "[encoded data removed]",
      "text/plain": [
       "<Figure size 432x288 with 1 Axes>"
      ]
     },
     "metadata": {
      "needs_background": "light"
     },
     "output_type": "display_data"
    },
    {
     "data": {
      "image/png": "[encoded data removed]",
      "text/plain": [
       "<Figure size 432x288 with 1 Axes>"
      ]
     },
     "metadata": {
      "needs_background": "light"
     },
     "output_type": "display_data"
    },
    {
     "data": {
      "image/png": "[encoded data removed]",
      "text/plain": [
       "<Figure size 432x288 with 1 Axes>"
      ]
     },
     "metadata": {
      "needs_background": "light"
     },
     "output_type": "display_data"
    }
   ],
   "source": [
    "%%fsql duck\n",
    "SELECT * FROM top_data\n",
    "SAMPLE 1 PERCENT SEED 0\n",
    "SELECT * ORDER BY time\n",
    "OUTPUT USING plot_by(by=\"symbol\", y=\"Close\")"
   ]
  },
  {
   "cell_type": "markdown",
   "id": "7d4af472",
   "metadata": {},
   "source": [
    "## Using a Python extension - TRANSFORM\n",
    "\n",
    "In the next example, we want to use the `pandas_ta` library to do some technical analysis on the timeseries data. We create a function that will create an `macd` column so that we can invoke it in Python later. The `macd` is an indicator of the trend of the timeseries. This is a normal Python function with the schema hint as a comment. Fugue can read this schema hint and apply the schema, which is a requirement for distributed backends such as Spark and Dask."
   ]
  },
  {
   "cell_type": "code",
   "execution_count": 15,
   "id": "f13ad5df",
   "metadata": {},
   "outputs": [],
   "source": [
    "# schema: *,macd:double\n",
    "def macd(df:pd.DataFrame) -> pd.DataFrame:\n",
    "    import pandas_ta\n",
    "    macd = df.ta.macd(close='close', fast=12, slow=26, signal=9)\n",
    "    return df.assign(macd=macd.iloc[:,2])"
   ]
  },
  {
   "cell_type": "markdown",
   "id": "5ae505c7",
   "metadata": {},
   "source": [
    "We'll invoke this function in the end-to-end workflow."
   ]
  },
  {
   "cell_type": "markdown",
   "id": "c599a5ff",
   "metadata": {},
   "source": [
    "# Parameterizing\n",
    "\n",
    "We now have components of a pipeline we can put together. We can parameterize the SQL code by using Jinja templating. This allows us to easily look process other symbols we are interested in. We'll just use the top 2 symbols for now."
   ]
  },
  {
   "cell_type": "code",
   "execution_count": 16,
   "id": "33f02023",
   "metadata": {},
   "outputs": [],
   "source": [
    "path = \"/Users/kevinkho/work/demos/blogs/fugue-duckdb/raw.parquet\"\n",
    "symbol_pattern = \"%USDT\"\n",
    "top_n = 2"
   ]
  },
  {
   "cell_type": "markdown",
   "id": "3dff4268",
   "metadata": {},
   "source": [
    "In order, the pipeline below does the following:\n",
    "\n",
    "1. Load the file and get the top traded symbols\n",
    "2. Do an inner join to just retain the top traded symbols\n",
    "3. Perform aggregates on the day level\n",
    "4. Use the macd function we defined earlier\n",
    "5. Plot the macd plots"
   ]
  },
  {
   "cell_type": "code",
   "execution_count": 17,
   "id": "a9df7530",
   "metadata": {},
   "outputs": [
    {
     "data": {
      "image/png": "[encoded data removed]",
      "text/plain": [
       "<Figure size 432x288 with 1 Axes>"
      ]
     },
     "metadata": {
      "needs_background": "light"
     },
     "output_type": "display_data"
    },
    {
     "data": {
      "image/png": "[encoded data removed]",
      "text/plain": [
       "<Figure size 432x288 with 1 Axes>"
      ]
     },
     "metadata": {
      "needs_background": "light"
     },
     "output_type": "display_data"
    }
   ],
   "source": [
    "%%fsql duck\n",
    "src = LOAD \"{{path}}\"\n",
    "SELECT * WHERE symbol LIKE '{{symbol_pattern}}'\n",
    "SELECT symbol, date_trunc('day',time) AS date, SUM(Number_of_trades) AS trades GROUP BY 1,2\n",
    "top_symbols = SELECT symbol, AVG(trades) AS trades GROUP BY 1 ORDER BY 2 DESC LIMIT {{top_n}}\n",
    "\n",
    "SELECT src.* FROM src INNER JOIN top_symbols ON src.symbol = top_symbols.symbol\n",
    "\n",
    "SELECT\n",
    "    symbol,\n",
    "    date_trunc('day', time) AS time,\n",
    "    min_by(Open, time) AS open,\n",
    "    MAX(High) AS high,\n",
    "    MIN(Low) AS low,\n",
    "    max_by(Close, time) AS close,\n",
    "    SUM(Number_of_trades) AS trades,\n",
    "    SUM(Volume) AS volume\n",
    "GROUP BY 1, 2\n",
    "\n",
    "TRANSFORM PREPARTITION BY symbol PRESORT time\n",
    "USING macd\n",
    "\n",
    "SELECT * ORDER BY time\n",
    "OUTPUT USING plot_by(by='symbol', y=\"macd\")"
   ]
  },
  {
   "cell_type": "markdown",
   "id": "9886d791",
   "metadata": {},
   "source": [
    "Again, this workflow executes in a few seconds because of the lazy evaluation and speed we get from DuckDB. One the data is filtered and aggregated, we can bring the result into Pandas. This means the initial dataset does not even have to fit in-memory (although DuckDB has limits to how much it can handle out of RAM). "
   ]
  },
  {
   "cell_type": "markdown",
   "id": "c38f6b1c",
   "metadata": {},
   "source": [
    "# Executing on Spark\n",
    "\n",
    "After prototyping on a smaller dataset, we execute the pipeline on a larger dataset. Wouldn't it be great if we could change the backend to Spark and run everything? Well with Fugue we can change the execution engine and in this case, it will work without any changes because the SparkSQL API and DuckDB API are very similar. The execution of the code below will take a bit longer because of spinning up the Spark session, but it will be scalable over a cluster using Spark."
   ]
  },
  {
   "cell_type": "code",
   "execution_count": 18,
   "id": "ba254c60",
   "metadata": {},
   "outputs": [
    {
     "name": "stderr",
     "output_type": "stream",
     "text": [
      "Using Spark's default log4j profile: org/apache/spark/log4j-defaults.properties\n",
      "Setting default log level to \"WARN\".\n",
      "To adjust logging level use sc.setLogLevel(newLevel). For SparkR, use setLogLevel(newLevel).\n",
      "22/02/20 22:37:15 WARN NativeCodeLoader: Unable to load native-hadoop library for your platform... using builtin-java classes where applicable\n",
      "                                                                                \r"
     ]
    },
    {
     "data": {
      "text/plain": [
       "DataFrames()"
      ]
     },
     "execution_count": 18,
     "metadata": {},
     "output_type": "execute_result"
    },
    {
     "data": {
      "image/png": "[encoded data removed]",
      "text/plain": [
       "<Figure size 432x288 with 1 Axes>"
      ]
     },
     "metadata": {
      "needs_background": "light"
     },
     "output_type": "display_data"
    },
    {
     "data": {
      "image/png": "[encoded data removed]",
      "text/plain": [
       "<Figure size 432x288 with 1 Axes>"
      ]
     },
     "metadata": {
      "needs_background": "light"
     },
     "output_type": "display_data"
    }
   ],
   "source": [
    "import fugue_spark\n",
    "query = \"\"\" src = LOAD \"{{path}}\"\n",
    "            SELECT * WHERE symbol LIKE '{{symbol_pattern}}'\n",
    "            SELECT symbol, date_trunc('day',time) AS date, SUM(Number_of_trades) AS trades GROUP BY 1,2\n",
    "            top_symbols = SELECT symbol, AVG(trades) AS trades GROUP BY 1 ORDER BY 2 DESC LIMIT {{top_n}}\n",
    "            \n",
    "            SELECT src.* FROM src INNER JOIN top_symbols ON src.symbol = top_symbols.symbol\n",
    "\n",
    "            SELECT\n",
    "                symbol,\n",
    "                date_trunc('day', time) AS time,\n",
    "                min_by(Open, time) AS open,\n",
    "                MAX(High) AS high,\n",
    "                MIN(Low) AS low,\n",
    "                max_by(Close, time) AS close,\n",
    "                SUM(Number_of_trades) AS trades,\n",
    "                SUM(Volume) AS volume\n",
    "            GROUP BY 1, 2\n",
    "\n",
    "            TRANSFORM PREPARTITION BY symbol PRESORT time\n",
    "            USING macd\n",
    "\n",
    "            SELECT * ORDER BY time\n",
    "            OUTPUT USING plot_by(by='symbol', y=\"macd\")\n",
    "            \"\"\"\n",
    "fsql(query).run(\"spark\")"
   ]
  },
  {
   "cell_type": "markdown",
   "id": "be9a81d1",
   "metadata": {},
   "source": [
    "# Conclusion\n",
    "\n",
    "In this article, we went over using FugueSQL with DuckDB and Pandas as backends to get the most out of local execution. Because of the lazy evaluation DuckDB provides, we can pre-aggregate our data quickly before bringing it to Pandas for further analyis that is hard to do in SQL. Using FugueSQL as the interface to build this workflow allows us to use the strengths of each backend seamlessly.\n",
    "\n",
    "As a bonus, the same code is parameterizeable and will execute on Spark. In the event that we need to scale execution to a cluster on big data, we can just change the backend and have Fugue be responsible for porting the code over."
   ]
  }
 ],
 "metadata": {
  "kernelspec": {
   "display_name": "Python 3 (ipykernel)",
   "language": "python",
   "name": "python3"
  },
  "language_info": {
   "codemirror_mode": {
    "name": "ipython",
    "version": 3
   },
   "file_extension": ".py",
   "mimetype": "text/x-python",
   "name": "python",
   "nbconvert_exporter": "python",
   "pygments_lexer": "ipython3",
   "version": "3.7.11"
  }
 },
 "nbformat": 4,
 "nbformat_minor": 5
}
