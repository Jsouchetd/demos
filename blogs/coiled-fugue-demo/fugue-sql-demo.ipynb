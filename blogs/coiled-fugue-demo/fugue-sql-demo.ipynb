{
 "cells": [
  {
   "cell_type": "markdown",
   "metadata": {},
   "source": [
    "# Data Analysis with FugueSQL on Coiled Dask Clusters"
   ]
  },
  {
   "cell_type": "markdown",
   "metadata": {},
   "source": [
    "In this notebook we will discuss [fugue-sql](https://docs.dask.org/en/latest/dataframe-sql.html#does-dask-implement-sql), a SQL abstraction layer that allows users to run SQL queries on top of Pandas, Spark, and Dask DataFrames. fugue-sql is part of the broader [fugue project](https://github.com/fugue-project/fugue), which aims to be an abstaction layer for distributed compute workflows. Fugue has both a Python and SQL interface. Users can choose the execution engine (Pandas, Spark, Dask) to run their logic on just by specifying during runtime.\n",
    "\n",
    "FugueSQL is meant for data analysts and SQL lovers to harness the power of distributed compute using a fun, and more English-like, syntax."
   ]
  },
  {
   "cell_type": "markdown",
   "metadata": {},
   "source": [
    "<img src=\"https://raw.githubusercontent.com/fugue-project/fugue/master/images/logo.svg\" align=\"left\" width=\"250\"/>"
   ]
  },
  {
   "cell_type": "markdown",
   "metadata": {},
   "source": [
    "## Import Libaries\n",
    "Here we import some standard data science libraries."
   ]
  },
  {
   "cell_type": "code",
   "execution_count": 1,
   "metadata": {},
   "outputs": [],
   "source": [
    "import pandas as pd\n",
    "import dask.dataframe as dd\n",
    "import seaborn as sns\n",
    "import matplotlib.pyplot as plt\n",
    "import warnings\n",
    "warnings.filterwarnings('ignore')\n",
    "\n",
    "import coiled"
   ]
  },
  {
   "cell_type": "markdown",
   "metadata": {},
   "source": [
    "## Creating the Software Environment\n",
    "\n",
    "The commented out code below was used to create the software environment for our cluster."
   ]
  },
  {
   "cell_type": "code",
   "execution_count": 2,
   "metadata": {},
   "outputs": [
    {
     "name": "stdout",
     "output_type": "stream",
     "text": [
      "Updating software environment...\n",
      "Using existing conda solve...\n",
      "Building Docker image\n",
      "(this takes a few minutes)\n",
      "STEP 1: FROM coiled/default:sha-050a418\n",
      "STEP 2: COPY environment.yml environment.yml\n",
      "--> cb61a7e4a6c\n",
      "STEP 3: RUN conda env update -n coiled -f environment.yml     && rm environment.yml     && conda clean --all -y     && echo \"conda activate coiled\" >> ~/.bashrc\n",
      "Collecting package metadata (repodata.json): ...working... done\n",
      "Solving environment: ...working... done\n",
      "\n",
      "Downloading and Extracting Packages\n",
      "libopenblas-0.3.12   | 8.9 MB    | ########## | 100% \n",
      "aiobotocore-1.2.2    | 40 KB     | ########## | 100% \n",
      "pycparser-2.20       | 94 KB     | ########## | 100% \n",
      "numpy-1.20.2         | 5.8 MB    | ########## | 100% \n",
      "brotlipy-0.7.0       | 341 KB    | ########## | 100% \n",
      "dask-core-2021.4.0   | 718 KB    | ########## | 100% \n",
      "jmespath-0.10.0      | 21 KB     | ########## | 100% \n",
      "tk-8.6.10            | 3.2 MB    | ########## | 100% \n",
      "locket-0.2.0         | 6 KB      | ########## | 100% \n",
      "psutil-5.8.0         | 342 KB    | ########## | 100% \n",
      "toolz-0.11.1         | 46 KB     | ########## | 100% \n",
      "partd-1.2.0          | 18 KB     | ########## | 100% \n",
      "markupsafe-1.1.1     | 27 KB     | ########## | 100% \n",
      "six-1.15.0           | 14 KB     | ########## | 100% \n",
      "_openmp_mutex-4.5    | 22 KB     | ########## | 100% \n",
      "jpeg-9d              | 264 KB    | ########## | 100% \n",
      "idna-3.1             | 52 KB     | ########## | 100% \n",
      "zlib-1.2.11          | 106 KB    | ########## | 100% \n",
      "pyopenssl-20.0.1     | 48 KB     | ########## | 100% \n",
      "xz-5.2.5             | 343 KB    | ########## | 100% \n",
      "attrs-20.3.0         | 41 KB     | ########## | 100% \n",
      "freetype-2.10.4      | 890 KB    | ########## | 100% \n",
      "pillow-8.1.2         | 688 KB    | ########## | 100% \n",
      "packaging-20.9       | 35 KB     | ########## | 100% \n",
      "pyyaml-5.4.1         | 189 KB    | ########## | 100% \n",
      "libwebp-base-1.2.0   | 815 KB    | ########## | 100% \n",
      "python_abi-3.7       | 4 KB      | ########## | 100% \n",
      "libffi-3.3           | 51 KB     | ########## | 100% \n",
      "cffi-1.14.5          | 225 KB    | ########## | 100% \n",
      "tornado-6.1          | 646 KB    | ########## | 100% \n",
      "heapdict-1.0.1       | 7 KB      | ########## | 100% \n",
      "ncurses-6.2          | 985 KB    | ########## | 100% \n",
      "python-dateutil-2.8. | 220 KB    | ########## | 100% \n",
      "python-3.7.9         | 57.3 MB   | ########## | 100% \n",
      "ca-certificates-2020 | 137 KB    | ########## | 100% \n",
      "aiohttp-3.7.4        | 632 KB    | ########## | 100% \n",
      "lz4-c-1.9.3          | 179 KB    | ########## | 100% \n",
      "libpng-1.6.37        | 306 KB    | ########## | 100% \n",
      "libgomp-9.3.0        | 376 KB    | ########## | 100% \n",
      "pip-21.0.1           | 1.1 MB    | ########## | 100% \n",
      "_libgcc_mutex-0.1    | 3 KB      | ########## | 100% \n",
      "typing_extensions-3. | 25 KB     | ########## | 100% \n",
      "libgcc-ng-9.3.0      | 7.8 MB    | ########## | 100% \n",
      "urllib3-1.26.4       | 99 KB     | ########## | 100% \n",
      "botocore-1.19.52     | 4.4 MB    | ########## | 100% \n",
      "typing-extensions-3. | 8 KB      | ########## | 100% \n",
      "chardet-4.0.0        | 204 KB    | ########## | 100% \n",
      "fsspec-0.9.0         | 75 KB     | ########## | 100% \n",
      "lcms2-2.12           | 443 KB    | ########## | 100% \n",
      "msgpack-python-1.0.2 | 91 KB     | ########## | 100% \n",
      "openssl-1.1.1k       | 2.1 MB    | ########## | 100% \n",
      "async-timeout-3.0.1  | 11 KB     | ########## | 100% \n",
      "openjpeg-2.4.0       | 525 KB    | ########## | 100% \n",
      "pytz-2021.1          | 239 KB    | ########## | 100% \n",
      "zstd-1.4.9           | 431 KB    | ########## | 100% \n",
      "bokeh-2.3.1          | 8.2 MB    | ########## | 100% \n",
      "libgfortran5-9.3.0   | 2.0 MB    | ########## | 100% \n",
      "cytoolz-0.11.0       | 403 KB    | ########## | 100% \n",
      "yaml-0.2.5           | 82 KB     | ########## | 100% \n",
      "pyparsing-2.4.7      | 60 KB     | ########## | 100% \n",
      "ld_impl_linux-64-2.3 | 618 KB    | ########## | 100% \n",
      "wrapt-1.12.1         | 47 KB     | ########## | 100% \n",
      "dask-2021.4.0        | 4 KB      | ########## | 100% \n",
      "certifi-2020.12.5    | 143 KB    | ########## | 100% \n",
      "wheel-0.36.2         | 31 KB     | ########## | 100% \n",
      "sqlite-3.35.4        | 1.4 MB    | ########## | 100% \n",
      "pysocks-1.7.1        | 27 KB     | ########## | 100% \n",
      "cloudpickle-1.6.0    | 22 KB     | ########## | 100% \n",
      "click-7.1.2          | 64 KB     | ########## | 100% \n",
      "setuptools-49.6.0    | 947 KB    | ########## | 100% \n",
      "libcblas-3.9.0       | 11 KB     | ########## | 100% \n",
      "olefile-0.46         | 32 KB     | ########## | 100% \n",
      "distributed-2021.4.0 | 1.1 MB    | ########## | 100% \n",
      "libgfortran-ng-9.3.0 | 22 KB     | ########## | 100% \n",
      "multidict-5.1.0      | 67 KB     | ########## | 100% \n",
      "sortedcontainers-2.3 | 26 KB     | ########## | 100% \n",
      "cryptography-3.4.7   | 1.1 MB    | ########## | 100% \n",
      "libtiff-4.2.0        | 678 KB    | ########## | 100% \n",
      "yarl-1.6.3           | 141 KB    | ########## | 100% \n",
      "s3fs-0.6.0           | 24 KB     | ########## | 100% \n",
      "liblapack-3.9.0      | 11 KB     | ########## | 100% \n",
      "zict-2.0.0           | 10 KB     | ########## | 100% \n",
      "libblas-3.9.0        | 11 KB     | ########## | 100% \n",
      "jinja2-2.11.3        | 93 KB     | ########## | 100% \n",
      "tblib-1.7.0          | 15 KB     | ########## | 100% \n",
      "readline-8.0         | 281 KB    | ########## | 100% \n",
      "aioitertools-0.7.1   | 19 KB     | ########## | 100% \n",
      "libstdcxx-ng-9.3.0   | 4.0 MB    | ########## | 100% \n",
      "pandas-1.2.3         | 11.8 MB   | ########## | 100% \n",
      "Preparing transaction: ...working... done\n",
      "Verifying transaction: ...working... done\n",
      "Executing transaction: ...working... done\n",
      "#\n",
      "# To activate this environment, use\n",
      "#\n",
      "#     $ conda activate coiled\n",
      "#\n",
      "# To deactivate an active environment, use\n",
      "#\n",
      "#     $ conda deactivate\n",
      "\n",
      "Cache location: /opt/conda/pkgs\n",
      "Will remove the following tarballs:\n",
      "\n",
      "/opt/conda/pkgs\n",
      "---------------\n",
      "libopenblas-0.3.12-pthreads_h4812303_1.tar.bz2     8.9 MB\n",
      "aiobotocore-1.2.2-pyhd8ed1ab_0.tar.bz2        40 KB\n",
      "pycparser-2.20-pyh9f0ad1d_2.tar.bz2           94 KB\n",
      "numpy-1.20.2-py37h038b26d_0.tar.bz2          5.8 MB\n",
      "brotlipy-0.7.0-py37h5e8e339_1001.tar.bz2     341 KB\n",
      "dask-core-2021.4.0-pyhd8ed1ab_0.tar.bz2      718 KB\n",
      "jmespath-0.10.0-pyh9f0ad1d_0.tar.bz2          21 KB\n",
      "tk-8.6.10-h21135ba_1.tar.bz2                 3.2 MB\n",
      "locket-0.2.0-py_2.tar.bz2                      6 KB\n",
      "psutil-5.8.0-py37h5e8e339_1.tar.bz2          342 KB\n",
      "toolz-0.11.1-py_0.tar.bz2                     46 KB\n",
      "partd-1.2.0-pyhd8ed1ab_0.tar.bz2              18 KB\n",
      "markupsafe-1.1.1-py37h5e8e339_3.tar.bz2       27 KB\n",
      "six-1.15.0-pyh9f0ad1d_0.tar.bz2               14 KB\n",
      "_openmp_mutex-4.5-1_gnu.tar.bz2               22 KB\n",
      "jpeg-9d-h36c2ea0_0.tar.bz2                   264 KB\n",
      "idna-3.1-pyhd3deb0d_0.tar.bz2                 52 KB\n",
      "zlib-1.2.11-h516909a_1010.tar.bz2            106 KB\n",
      "pyopenssl-20.0.1-pyhd8ed1ab_0.tar.bz2         48 KB\n",
      "xz-5.2.5-h516909a_1.tar.bz2                  343 KB\n",
      "attrs-20.3.0-pyhd3deb0d_0.tar.bz2             41 KB\n",
      "freetype-2.10.4-h0708190_1.tar.bz2           890 KB\n",
      "pillow-8.1.2-py37h4600e1f_1.tar.bz2          688 KB\n",
      "packaging-20.9-pyh44b312d_0.tar.bz2           35 KB\n",
      "pyyaml-5.4.1-py37h5e8e339_0.tar.bz2          189 KB\n",
      "libwebp-base-1.2.0-h7f98852_2.tar.bz2        815 KB\n",
      "python_abi-3.7-1_cp37m.tar.bz2                 4 KB\n",
      "libffi-3.3-h58526e2_2.tar.bz2                 51 KB\n",
      "cffi-1.14.5-py37hc58025e_0.tar.bz2           225 KB\n",
      "tornado-6.1-py37h5e8e339_1.tar.bz2           646 KB\n",
      "heapdict-1.0.1-py_0.tar.bz2                    7 KB\n",
      "ncurses-6.2-h58526e2_4.tar.bz2               985 KB\n",
      "python-dateutil-2.8.1-py_0.tar.bz2           220 KB\n",
      "python-3.7.9-hffdb5ce_100_cpython.tar.bz2    57.3 MB\n",
      "ca-certificates-2020.12.5-ha878542_0.tar.bz2     137 KB\n",
      "aiohttp-3.7.4-py37h5e8e339_0.tar.bz2         632 KB\n",
      "lz4-c-1.9.3-h9c3ff4c_0.tar.bz2               179 KB\n",
      "libpng-1.6.37-h21135ba_2.tar.bz2             306 KB\n",
      "libgomp-9.3.0-h2828fa1_19.tar.bz2            376 KB\n",
      "pip-21.0.1-pyhd8ed1ab_0.tar.bz2              1.1 MB\n",
      "_libgcc_mutex-0.1-conda_forge.tar.bz2          3 KB\n",
      "typing_extensions-3.7.4.3-py_0.tar.bz2        25 KB\n",
      "libgcc-ng-9.3.0-h2828fa1_19.tar.bz2          7.8 MB\n",
      "urllib3-1.26.4-pyhd8ed1ab_0.tar.bz2           99 KB\n",
      "botocore-1.19.52-pyhd8ed1ab_0.tar.bz2        4.4 MB\n",
      "typing-extensions-3.7.4.3-0.tar.bz2            8 KB\n",
      "chardet-4.0.0-py37h89c1867_1.tar.bz2         204 KB\n",
      "fsspec-0.9.0-pyhd8ed1ab_2.tar.bz2             75 KB\n",
      "lcms2-2.12-hddcbb42_0.tar.bz2                443 KB\n",
      "msgpack-python-1.0.2-py37h2527ec5_1.tar.bz2      91 KB\n",
      "openssl-1.1.1k-h7f98852_0.tar.bz2            2.1 MB\n",
      "async-timeout-3.0.1-py_1000.tar.bz2           11 KB\n",
      "openjpeg-2.4.0-hf7af979_0.tar.bz2            525 KB\n",
      "pytz-2021.1-pyhd8ed1ab_0.tar.bz2             239 KB\n",
      "zstd-1.4.9-ha95c52a_0.tar.bz2                431 KB\n",
      "bokeh-2.3.1-py37h89c1867_0.tar.bz2           8.2 MB\n",
      "libgfortran5-9.3.0-hff62375_19.tar.bz2       2.0 MB\n",
      "cytoolz-0.11.0-py37h5e8e339_3.tar.bz2        403 KB\n",
      "yaml-0.2.5-h516909a_0.tar.bz2                 82 KB\n",
      "pyparsing-2.4.7-pyh9f0ad1d_0.tar.bz2          60 KB\n",
      "ld_impl_linux-64-2.35.1-hea4e1c9_2.tar.bz2     618 KB\n",
      "wrapt-1.12.1-py37h5e8e339_3.tar.bz2           47 KB\n",
      "dask-2021.4.0-pyhd8ed1ab_0.tar.bz2             4 KB\n",
      "certifi-2020.12.5-py37h89c1867_1.tar.bz2     143 KB\n",
      "wheel-0.36.2-pyhd3deb0d_0.tar.bz2             31 KB\n",
      "sqlite-3.35.4-h74cdb3f_0.tar.bz2             1.4 MB\n",
      "pysocks-1.7.1-py37h89c1867_3.tar.bz2          27 KB\n",
      "cloudpickle-1.6.0-py_0.tar.bz2                22 KB\n",
      "click-7.1.2-pyh9f0ad1d_0.tar.bz2              64 KB\n",
      "setuptools-49.6.0-py37h89c1867_3.tar.bz2     947 KB\n",
      "libcblas-3.9.0-8_openblas.tar.bz2             11 KB\n",
      "olefile-0.46-pyh9f0ad1d_1.tar.bz2             32 KB\n",
      "distributed-2021.4.0-py37h89c1867_0.tar.bz2     1.1 MB\n",
      "libgfortran-ng-9.3.0-hff62375_19.tar.bz2      22 KB\n",
      "multidict-5.1.0-py37h5e8e339_1.tar.bz2        67 KB\n",
      "sortedcontainers-2.3.0-pyhd8ed1ab_0.tar.bz2      26 KB\n",
      "cryptography-3.4.7-py37h5d9358c_0.tar.bz2     1.1 MB\n",
      "libtiff-4.2.0-hdc55705_1.tar.bz2             678 KB\n",
      "yarl-1.6.3-py37h5e8e339_1.tar.bz2            141 KB\n",
      "s3fs-0.6.0-pyhd8ed1ab_0.tar.bz2               24 KB\n",
      "liblapack-3.9.0-8_openblas.tar.bz2            11 KB\n",
      "zict-2.0.0-py_0.tar.bz2                       10 KB\n",
      "libblas-3.9.0-8_openblas.tar.bz2              11 KB\n",
      "jinja2-2.11.3-pyh44b312d_0.tar.bz2            93 KB\n",
      "tblib-1.7.0-pyhd8ed1ab_0.tar.bz2              15 KB\n",
      "readline-8.0-he28a2e2_2.tar.bz2              281 KB\n",
      "aioitertools-0.7.1-pyhd8ed1ab_0.tar.bz2       19 KB\n",
      "libstdcxx-ng-9.3.0-h6de172a_19.tar.bz2       4.0 MB\n",
      "pandas-1.2.3-py37hdc94413_0.tar.bz2         11.8 MB\n",
      "\n",
      "---------------------------------------------------\n",
      "Total:                                     134.8 MB\n",
      "\n",
      "Removed libopenblas-0.3.12-pthreads_h4812303_1.tar.bz2\n",
      "Removed aiobotocore-1.2.2-pyhd8ed1ab_0.tar.bz2\n",
      "Removed pycparser-2.20-pyh9f0ad1d_2.tar.bz2\n",
      "Removed numpy-1.20.2-py37h038b26d_0.tar.bz2\n",
      "Removed brotlipy-0.7.0-py37h5e8e339_1001.tar.bz2\n",
      "Removed dask-core-2021.4.0-pyhd8ed1ab_0.tar.bz2\n",
      "Removed jmespath-0.10.0-pyh9f0ad1d_0.tar.bz2\n",
      "Removed tk-8.6.10-h21135ba_1.tar.bz2\n",
      "Removed locket-0.2.0-py_2.tar.bz2\n",
      "Removed psutil-5.8.0-py37h5e8e339_1.tar.bz2\n",
      "Removed toolz-0.11.1-py_0.tar.bz2\n",
      "Removed partd-1.2.0-pyhd8ed1ab_0.tar.bz2\n",
      "Removed markupsafe-1.1.1-py37h5e8e339_3.tar.bz2\n",
      "Removed six-1.15.0-pyh9f0ad1d_0.tar.bz2\n",
      "Removed _openmp_mutex-4.5-1_gnu.tar.bz2\n",
      "Removed jpeg-9d-h36c2ea0_0.tar.bz2\n",
      "Removed idna-3.1-pyhd3deb0d_0.tar.bz2\n",
      "Removed zlib-1.2.11-h516909a_1010.tar.bz2\n",
      "Removed pyopenssl-20.0.1-pyhd8ed1ab_0.tar.bz2\n",
      "Removed xz-5.2.5-h516909a_1.tar.bz2\n",
      "Removed attrs-20.3.0-pyhd3deb0d_0.tar.bz2\n",
      "Removed freetype-2.10.4-h0708190_1.tar.bz2\n",
      "Removed pillow-8.1.2-py37h4600e1f_1.tar.bz2\n",
      "Removed packaging-20.9-pyh44b312d_0.tar.bz2\n",
      "Removed pyyaml-5.4.1-py37h5e8e339_0.tar.bz2\n",
      "Removed libwebp-base-1.2.0-h7f98852_2.tar.bz2\n",
      "Removed python_abi-3.7-1_cp37m.tar.bz2\n",
      "Removed libffi-3.3-h58526e2_2.tar.bz2\n",
      "Removed cffi-1.14.5-py37hc58025e_0.tar.bz2\n",
      "Removed tornado-6.1-py37h5e8e339_1.tar.bz2\n",
      "Removed heapdict-1.0.1-py_0.tar.bz2\n",
      "Removed ncurses-6.2-h58526e2_4.tar.bz2\n",
      "Removed python-dateutil-2.8.1-py_0.tar.bz2\n",
      "Removed python-3.7.9-hffdb5ce_100_cpython.tar.bz2\n",
      "Removed ca-certificates-2020.12.5-ha878542_0.tar.bz2\n",
      "Removed aiohttp-3.7.4-py37h5e8e339_0.tar.bz2\n",
      "Removed lz4-c-1.9.3-h9c3ff4c_0.tar.bz2\n",
      "Removed libpng-1.6.37-h21135ba_2.tar.bz2\n",
      "Removed libgomp-9.3.0-h2828fa1_19.tar.bz2\n",
      "Removed pip-21.0.1-pyhd8ed1ab_0.tar.bz2\n",
      "Removed _libgcc_mutex-0.1-conda_forge.tar.bz2\n",
      "Removed typing_extensions-3.7.4.3-py_0.tar.bz2\n",
      "Removed libgcc-ng-9.3.0-h2828fa1_19.tar.bz2\n",
      "Removed urllib3-1.26.4-pyhd8ed1ab_0.tar.bz2\n",
      "Removed botocore-1.19.52-pyhd8ed1ab_0.tar.bz2\n",
      "Removed typing-extensions-3.7.4.3-0.tar.bz2\n",
      "Removed chardet-4.0.0-py37h89c1867_1.tar.bz2\n",
      "Removed fsspec-0.9.0-pyhd8ed1ab_2.tar.bz2\n",
      "Removed lcms2-2.12-hddcbb42_0.tar.bz2\n",
      "Removed msgpack-python-1.0.2-py37h2527ec5_1.tar.bz2\n",
      "Removed openssl-1.1.1k-h7f98852_0.tar.bz2\n",
      "Removed async-timeout-3.0.1-py_1000.tar.bz2\n",
      "Removed openjpeg-2.4.0-hf7af979_0.tar.bz2\n",
      "Removed pytz-2021.1-pyhd8ed1ab_0.tar.bz2\n",
      "Removed zstd-1.4.9-ha95c52a_0.tar.bz2\n",
      "Removed bokeh-2.3.1-py37h89c1867_0.tar.bz2\n",
      "Removed libgfortran5-9.3.0-hff62375_19.tar.bz2\n",
      "Removed cytoolz-0.11.0-py37h5e8e339_3.tar.bz2\n",
      "Removed yaml-0.2.5-h516909a_0.tar.bz2\n",
      "Removed pyparsing-2.4.7-pyh9f0ad1d_0.tar.bz2\n",
      "Removed ld_impl_linux-64-2.35.1-hea4e1c9_2.tar.bz2\n",
      "Removed wrapt-1.12.1-py37h5e8e339_3.tar.bz2\n",
      "Removed dask-2021.4.0-pyhd8ed1ab_0.tar.bz2\n",
      "Removed certifi-2020.12.5-py37h89c1867_1.tar.bz2\n",
      "Removed wheel-0.36.2-pyhd3deb0d_0.tar.bz2\n",
      "Removed sqlite-3.35.4-h74cdb3f_0.tar.bz2\n",
      "Removed pysocks-1.7.1-py37h89c1867_3.tar.bz2\n",
      "Removed cloudpickle-1.6.0-py_0.tar.bz2\n",
      "Removed click-7.1.2-pyh9f0ad1d_0.tar.bz2\n",
      "Removed setuptools-49.6.0-py37h89c1867_3.tar.bz2\n",
      "Removed libcblas-3.9.0-8_openblas.tar.bz2\n",
      "Removed olefile-0.46-pyh9f0ad1d_1.tar.bz2\n",
      "Removed distributed-2021.4.0-py37h89c1867_0.tar.bz2\n",
      "Removed libgfortran-ng-9.3.0-hff62375_19.tar.bz2\n",
      "Removed multidict-5.1.0-py37h5e8e339_1.tar.bz2\n",
      "Removed sortedcontainers-2.3.0-pyhd8ed1ab_0.tar.bz2\n"
     ]
    },
    {
     "name": "stdout",
     "output_type": "stream",
     "text": [
      "Removed cryptography-3.4.7-py37h5d9358c_0.tar.bz2\n",
      "Removed libtiff-4.2.0-hdc55705_1.tar.bz2\n",
      "Removed yarl-1.6.3-py37h5e8e339_1.tar.bz2\n",
      "Removed s3fs-0.6.0-pyhd8ed1ab_0.tar.bz2\n",
      "Removed liblapack-3.9.0-8_openblas.tar.bz2\n",
      "Removed zict-2.0.0-py_0.tar.bz2\n",
      "Removed libblas-3.9.0-8_openblas.tar.bz2\n",
      "Removed jinja2-2.11.3-pyh44b312d_0.tar.bz2\n",
      "Removed tblib-1.7.0-pyhd8ed1ab_0.tar.bz2\n",
      "Removed readline-8.0-he28a2e2_2.tar.bz2\n",
      "Removed aioitertools-0.7.1-pyhd8ed1ab_0.tar.bz2\n",
      "Removed libstdcxx-ng-9.3.0-h6de172a_19.tar.bz2\n",
      "Removed pandas-1.2.3-py37hdc94413_0.tar.bz2\n",
      "WARNING: /root/.conda/pkgs does not exist\n",
      "Cache location: /opt/conda/pkgs\n",
      "Will remove the following packages:\n",
      "/opt/conda/pkgs\n",
      "---------------\n",
      "\n",
      "_openmp_mutex-4.5-1_gnu                       93 KB\n",
      "python_abi-3.7-1_cp37m                        10 KB\n",
      "_libgcc_mutex-0.1-conda_forge                  6 KB\n",
      "typing-extensions-3.7.4.3-0                   23 KB\n",
      "dask-2021.4.0-pyhd8ed1ab_0                    11 KB\n",
      "libcblas-3.9.0-8_openblas                     41 KB\n",
      "libgfortran-ng-9.3.0-hff62375_19              92 KB\n",
      "liblapack-3.9.0-8_openblas                    41 KB\n",
      "libblas-3.9.0-8_openblas                      41 KB\n",
      "\n",
      "---------------------------------------------------\n",
      "Total:                                       359 KB\n",
      "\n",
      "removing _openmp_mutex-4.5-1_gnu\n",
      "removing python_abi-3.7-1_cp37m\n",
      "removing _libgcc_mutex-0.1-conda_forge\n",
      "removing typing-extensions-3.7.4.3-0\n",
      "removing dask-2021.4.0-pyhd8ed1ab_0\n",
      "removing libcblas-3.9.0-8_openblas\n",
      "removing libgfortran-ng-9.3.0-hff62375_19\n",
      "removing liblapack-3.9.0-8_openblas\n",
      "removing libblas-3.9.0-8_openblas\n",
      "--> cd8af2a0e7f\n",
      "STEP 4: ENV PATH /opt/conda/envs/coiled/bin:$PATH\n",
      "--> 9288a6656cc\n",
      "STEP 5: SHELL [\"conda\", \"run\", \"-n\", \"coiled\", \"/bin/bash\", \"-c\"]\n",
      "--> 72501f2d2b5\n",
      "STEP 6: COPY requirements.txt requirements.txt\n",
      "--> b74b9e961c9\n",
      "STEP 7: RUN pip install -r requirements.txt     && rm requirements.txt\n",
      "Collecting fugue==0.5.2\n",
      "Downloading fugue-0.5.2-py3-none-any.whl (368 kB)\n",
      "Requirement already satisfied: pandas>=1.0.2 in /opt/conda/envs/coiled/lib/python3.7/site-packages (from fugue==0.5.2->-r requirements.txt (line 1)) (1.2.3)\n",
      "Collecting adagio>=0.2.2\n",
      "Downloading adagio-0.2.2-py3-none-any.whl (26 kB)\n",
      "Collecting qpd>=0.2.4\n",
      "Downloading qpd-0.2.5-py3-none-any.whl (194 kB)\n",
      "Collecting triad>=0.5.1\n",
      "Downloading triad-0.5.2-py3-none-any.whl (52 kB)\n",
      "Collecting sqlalchemy\n",
      "Downloading SQLAlchemy-1.4.11-cp37-cp37m-manylinux2014_x86_64.whl (1.5 MB)\n",
      "Collecting pyarrow>=0.15.1\n",
      "Downloading pyarrow-4.0.0-cp37-cp37m-manylinux2014_x86_64.whl (21.8 MB)\n",
      "Requirement already satisfied: python-dateutil>=2.7.3 in /opt/conda/envs/coiled/lib/python3.7/site-packages (from pandas>=1.0.2->fugue==0.5.2->-r requirements.txt (line 1)) (2.8.1)\n",
      "Requirement already satisfied: pytz>=2017.3 in /opt/conda/envs/coiled/lib/python3.7/site-packages (from pandas>=1.0.2->fugue==0.5.2->-r requirements.txt (line 1)) (2021.1)\n",
      "Requirement already satisfied: numpy>=1.16.5 in /opt/conda/envs/coiled/lib/python3.7/site-packages (from pandas>=1.0.2->fugue==0.5.2->-r requirements.txt (line 1)) (1.20.2)\n",
      "Requirement already satisfied: six>=1.5 in /opt/conda/envs/coiled/lib/python3.7/site-packages (from python-dateutil>=2.7.3->pandas>=1.0.2->fugue==0.5.2->-r requirements.txt (line 1)) (1.15.0)\n",
      "Collecting antlr4-python3-runtime\n",
      "Downloading antlr4-python3-runtime-4.9.2.tar.gz (117 kB)\n",
      "Collecting fs\n",
      "Downloading fs-2.4.13-py2.py3-none-any.whl (131 kB)\n",
      "Collecting ciso8601\n",
      "Downloading ciso8601-2.1.3.tar.gz (15 kB)\n",
      "Collecting appdirs~=1.4.3\n",
      "Downloading appdirs-1.4.4-py2.py3-none-any.whl (9.6 kB)\n",
      "Requirement already satisfied: setuptools in /opt/conda/envs/coiled/lib/python3.7/site-packages (from fs->triad>=0.5.1->fugue==0.5.2->-r requirements.txt (line 1)) (49.6.0.post20210108)\n",
      "Collecting greenlet!=0.4.17\n",
      "Downloading greenlet-1.0.0-cp37-cp37m-manylinux2010_x86_64.whl (160 kB)\n",
      "Collecting importlib-metadata\n",
      "Downloading importlib_metadata-4.0.1-py3-none-any.whl (16 kB)\n",
      "Requirement already satisfied: typing-extensions>=3.6.4 in /opt/conda/envs/coiled/lib/python3.7/site-packages (from importlib-metadata->sqlalchemy->fugue==0.5.2->-r requirements.txt (line 1)) (3.7.4.3)\n",
      "Collecting zipp>=0.5\n",
      "Downloading zipp-3.4.1-py3-none-any.whl (5.2 kB)\n",
      "Building wheels for collected packages: antlr4-python3-runtime, ciso8601\n",
      "Building wheel for antlr4-python3-runtime (setup.py): started\n",
      "Building wheel for antlr4-python3-runtime (setup.py): finished with status 'done'\n",
      "Created wheel for antlr4-python3-runtime: filename=antlr4_python3_runtime-4.9.2-py3-none-any.whl size=144566 sha256=f85203abb06fa1439b9d68f35d3a6ea6594bab39af5e9e363f8a41976f19ac69\n",
      "Stored in directory: /root/.cache/pip/wheels/14/4c/18/1dbbc9875a2547d2063400ea9f404da4af3331965a71061029\n",
      "Building wheel for ciso8601 (setup.py): started\n",
      "Building wheel for ciso8601 (setup.py): finished with status 'done'\n",
      "Created wheel for ciso8601: filename=ciso8601-2.1.3-cp37-cp37m-linux_x86_64.whl size=31233 sha256=2d68225514db608f04602f3af92514665afe36dce0c2f2026718c2e69b4a0024\n",
      "Stored in directory: /root/.cache/pip/wheels/96/0f/89/b1c8e876a1c8ebf41226adea77b12c4540ffc323006124954d\n",
      "Successfully built antlr4-python3-runtime ciso8601\n",
      "Installing collected packages: appdirs, zipp, pyarrow, fs, ciso8601, triad, importlib-metadata, greenlet, sqlalchemy, antlr4-python3-runtime, adagio, qpd, fugue\n",
      "Successfully installed adagio-0.2.2 antlr4-python3-runtime-4.9.2 appdirs-1.4.4 ciso8601-2.1.3 fs-2.4.13 fugue-0.5.2 greenlet-1.0.0 importlib-metadata-4.0.1 pyarrow-4.0.0 qpd-0.2.5 sqlalchemy-1.4.11 triad-0.5.2 zipp-3.4.1\n",
      "\n",
      "STEP 8: COMMIT 382f7bb8-77b8-407b-8ee9-489a5a458db8\n",
      "--> cdf42ef9837\n",
      "cdf42ef983773aef546adf1bf4a4b0931fd8e416398056fee23617e3185539ca\n",
      "\n",
      "\n",
      "==> WARNING: A newer version of conda exists. <==\n",
      "current version: 4.9.2\n",
      "latest version: 4.10.1\n",
      "\n",
      "Please update conda by running\n",
      "\n",
      "$ conda update -n base -c defaults conda\n",
      "\n",
      "\n",
      "Docker build succeeded: 382f7bb8-77b8-407b-8ee9-489a5a458db8\n",
      "Uploading image\n",
      "Getting image source signatures\n",
      "Copying blob sha256:47a386511063752804f5ec1f445152899de53d5fb7236369284dc672c11fecf6\n",
      "Copying blob sha256:bdfa5a7f3b7f45146618f4fefd60d125d6597aa6b5d5777b41f74ab6edd7e881\n",
      "Copying blob sha256:15fa7120da62a3de7612d7f5b7f8c664c8562fff3597afe0f5bf85614672c2ab\n",
      "Copying blob sha256:f5600c6330da7bb112776ba067a32a9c20842d6ecc8ee3289f1a713b644092f8\n",
      "Copying blob sha256:014875a5c7e0372e86c58e4207d2baacf6cf147510e6a422372e73e07adb398c\n",
      "Copying blob sha256:0553ab4c463e8dd22931a5deb37e8014a18cde60d6be1337f4415de56649a947\n",
      "Copying blob sha256:dfef8986f350d2efb7dd633410dceac30543be620085d9819f42db7067f55f64\n",
      "Copying blob sha256:49d53695504bcca18be49c6518e44faf6b19d1fefec7f43d23a60d308bc74414\n",
      "Copying config sha256:cdf42ef983773aef546adf1bf4a4b0931fd8e416398056fee23617e3185539ca\n",
      "Writing manifest to image destination\n",
      "Storing signatures\n",
      "Getting image source signatures\n",
      "Copying blob sha256:0553ab4c463e8dd22931a5deb37e8014a18cde60d6be1337f4415de56649a947\n",
      "Copying blob sha256:f5600c6330da7bb112776ba067a32a9c20842d6ecc8ee3289f1a713b644092f8\n",
      "Copying blob sha256:dfef8986f350d2efb7dd633410dceac30543be620085d9819f42db7067f55f64\n",
      "Copying blob sha256:014875a5c7e0372e86c58e4207d2baacf6cf147510e6a422372e73e07adb398c\n",
      "Copying blob sha256:bdfa5a7f3b7f45146618f4fefd60d125d6597aa6b5d5777b41f74ab6edd7e881\n",
      "Copying blob sha256:47a386511063752804f5ec1f445152899de53d5fb7236369284dc672c11fecf6\n",
      "Copying blob sha256:15fa7120da62a3de7612d7f5b7f8c664c8562fff3597afe0f5bf85614672c2ab\n",
      "Copying blob sha256:49d53695504bcca18be49c6518e44faf6b19d1fefec7f43d23a60d308bc74414\n",
      "Copying config sha256:cdf42ef983773aef546adf1bf4a4b0931fd8e416398056fee23617e3185539ca\n",
      "Writing manifest to image destination\n",
      "Storing signatures\n",
      "Finished updating environment\n"
     ]
    }
   ],
   "source": [
    "coiled.create_software_environment(\n",
    "    name=\"fugue-sql\",\n",
    "    conda={\"channels\": [\"conda-forge\"],\n",
    "            \"dependencies\": [\"dask=2021.04.0\",\"distributed=2021.04.0\",\"python=3.7.9\",\"s3fs\"]},\n",
    "    pip=['fugue==0.5.2']\n",
    "    )"
   ]
  },
  {
   "cell_type": "markdown",
   "metadata": {},
   "source": [
    "## Creating the Coiled Cluster\n",
    "\n",
    "We need to create a Coiled cluster with a predefined image. The image contains fugue and some fugue dependencies. If you're doing this in your Coiled account, don't forget to change the software to your account. Instead of `kvnkho/fugue-sql`, it will look like `username/fugue-sql` if the software environment above was used."
   ]
  },
  {
   "cell_type": "code",
   "execution_count": 3,
   "metadata": {},
   "outputs": [
    {
     "data": {
      "application/vnd.jupyter.widget-view+json": {
       "model_id": "",
       "version_major": 2,
       "version_minor": 0
      },
      "text/plain": [
       "Output()"
      ]
     },
     "metadata": {},
     "output_type": "display_data"
    },
    {
     "name": "stdout",
     "output_type": "stream",
     "text": [
      "Checking environment images\n",
      "Valid environment image found\n"
     ]
    },
    {
     "data": {
      "text/html": [
       "<pre style=\"white-space:pre;overflow-x:auto;line-height:normal;font-family:Menlo,'DejaVu Sans Mono',consolas,'Courier New',monospace\"></pre>\n"
      ],
      "text/plain": []
     },
     "metadata": {},
     "output_type": "display_data"
    },
    {
     "data": {
      "application/vnd.jupyter.widget-view+json": {
       "model_id": "4e8c16562de848589491d0e45dd344fb",
       "version_major": 2,
       "version_minor": 0
      },
      "text/plain": [
       "VBox(children=(HTML(value='<h2>coiled.Cluster</h2>'), HBox(children=(HTML(value='\\n<div>\\n  <style scoped>\\n  …"
      ]
     },
     "metadata": {},
     "output_type": "display_data"
    }
   ],
   "source": [
    "# Creating the Coiled cluster\n",
    "cluster = coiled.Cluster(\n",
    "    n_workers=2,\n",
    "    software=\"kvnkho/fugue-sql\",\n",
    ")\n",
    "cluster"
   ]
  },
  {
   "cell_type": "markdown",
   "metadata": {},
   "source": [
    "Now we pass the cluster to our Dask Client."
   ]
  },
  {
   "cell_type": "code",
   "execution_count": 4,
   "metadata": {},
   "outputs": [
    {
     "data": {
      "text/html": [
       "<table style=\"border: 2px solid white;\">\n",
       "<tr>\n",
       "<td style=\"vertical-align: top; border: 0px solid white\">\n",
       "<h3 style=\"text-align: left;\">Client</h3>\n",
       "<ul style=\"text-align: left; list-style: none; margin: 0; padding: 0;\">\n",
       "  <li><b>Scheduler: </b>tls://ec2-3-143-143-242.us-east-2.compute.amazonaws.com:8786</li>\n",
       "  <li><b>Dashboard: </b><a href='http://ec2-3-143-143-242.us-east-2.compute.amazonaws.com:8787' target='_blank'>http://ec2-3-143-143-242.us-east-2.compute.amazonaws.com:8787</a></li>\n",
       "</ul>\n",
       "</td>\n",
       "<td style=\"vertical-align: top; border: 0px solid white\">\n",
       "<h3 style=\"text-align: left;\">Cluster</h3>\n",
       "<ul style=\"text-align: left; list-style:none; margin: 0; padding: 0;\">\n",
       "  <li><b>Workers: </b>2</li>\n",
       "  <li><b>Cores: </b>8</li>\n",
       "  <li><b>Memory: </b>32.00 GiB</li>\n",
       "</ul>\n",
       "</td>\n",
       "</tr>\n",
       "</table>"
      ],
      "text/plain": [
       "<Client: 'tls://10.2.12.88:8786' processes=2 threads=8, memory=32.00 GiB>"
      ]
     },
     "execution_count": 4,
     "metadata": {},
     "output_type": "execute_result"
    }
   ],
   "source": [
    "from dask.distributed import Client\n",
    "client = Client(cluster)\n",
    "client"
   ]
  },
  {
   "cell_type": "markdown",
   "metadata": {},
   "source": [
    "## Setup\n",
    "\n",
    "`fugue-sql` can be imported in notebooks by using the `fugue_notebook.setup` function. This provides syntax highlighting for fugue-sql cells and allows us to use the `%%fsql` magic.\n",
    "\n",
    "At the moment, the syntax highlighting is only available for traditional iPython notebooks. It will fail in JupyterLab environments.\n",
    "\n",
    "To open the classic iPython Notebook from JupyterLab, select “Launch Classic Notebook” from the JupyterLab Help menu."
   ]
  },
  {
   "cell_type": "code",
   "execution_count": 5,
   "metadata": {},
   "outputs": [],
   "source": [
    "from fugue_notebook import setup\n",
    "try:\n",
    "    setup()\n",
    "except:\n",
    "    print(\"fugue-sql cell magic will work but syntax highlighting is not yet available for JupyterLab\")"
   ]
  },
  {
   "cell_type": "markdown",
   "metadata": {},
   "source": [
    "## Initial Look at fugue-sql\n",
    "\n",
    "Here we load in the NYC taxi data with dask. This is a standard dataset frequently used in other Dask demos. Persist prevents re-reading unnecessarily. Some of these columns hold NULL values, so we need to store it float because of compatibility with PyArrow. The integer data type can't hold NULL values in PyArrow."
   ]
  },
  {
   "cell_type": "code",
   "execution_count": 6,
   "metadata": {},
   "outputs": [],
   "source": [
    "taxi_df = dd.read_csv(\n",
    "    \"s3://nyc-tlc/trip data/yellow_tripdata_2019-01.csv\",\n",
    "    dtype={'RatecodeID': 'float64',\n",
    "           'VendorID': 'float64',\n",
    "           'passenger_count': 'float64',\n",
    "           'payment_type': 'float64'},\n",
    "    storage_options={\"anon\": True},\n",
    "    blocksize=\"16 MiB\",\n",
    ").persist()"
   ]
  },
  {
   "cell_type": "markdown",
   "metadata": {},
   "source": [
    "The next cell is our first look at fugue-sql. Notice the `%%fsql` cell magic turns the whole cell into a SQL cell. `%%fsql dask` tells Fugue to use Dask as an execution engine. Not specifying an execution engine defaults to pandas.\n",
    "\n",
    "The Dask DataFrame (named `taxi_df`) that was previously loaded in is now accessible by this SQL cell. `fugue-sql` has all ANSI SQL keywords available, so here we show a simple `GROUP BY` and `ORDER BY` to get the average tip by number of passengers. We also use the `AVG` aggregate function.\n",
    "\n",
    "For iPython notebook users, syntax highlighting for SQL keywords will be available."
   ]
  },
  {
   "cell_type": "code",
   "execution_count": 7,
   "metadata": {},
   "outputs": [
    {
     "data": {
      "text/html": [
       "<div>\n",
       "<style scoped>\n",
       "    .dataframe tbody tr th:only-of-type {\n",
       "        vertical-align: middle;\n",
       "    }\n",
       "\n",
       "    .dataframe tbody tr th {\n",
       "        vertical-align: top;\n",
       "    }\n",
       "\n",
       "    .dataframe thead th {\n",
       "        text-align: right;\n",
       "    }\n",
       "</style>\n",
       "<table border=\"1\" class=\"dataframe\">\n",
       "  <thead>\n",
       "    <tr style=\"text-align: right;\">\n",
       "      <th></th>\n",
       "      <th>passenger_count</th>\n",
       "      <th>average_tip</th>\n",
       "    </tr>\n",
       "  </thead>\n",
       "  <tbody>\n",
       "    <tr>\n",
       "      <th>0</th>\n",
       "      <td>0.0</td>\n",
       "      <td>1.786901</td>\n",
       "    </tr>\n",
       "    <tr>\n",
       "      <th>1</th>\n",
       "      <td>1.0</td>\n",
       "      <td>1.828308</td>\n",
       "    </tr>\n",
       "    <tr>\n",
       "      <th>2</th>\n",
       "      <td>2.0</td>\n",
       "      <td>1.833877</td>\n",
       "    </tr>\n",
       "    <tr>\n",
       "      <th>3</th>\n",
       "      <td>3.0</td>\n",
       "      <td>1.795579</td>\n",
       "    </tr>\n",
       "    <tr>\n",
       "      <th>4</th>\n",
       "      <td>4.0</td>\n",
       "      <td>1.702710</td>\n",
       "    </tr>\n",
       "  </tbody>\n",
       "</table>\n",
       "</div>"
      ],
      "text/plain": [
       "   passenger_count  average_tip\n",
       "0              0.0     1.786901\n",
       "1              1.0     1.828308\n",
       "2              2.0     1.833877\n",
       "3              3.0     1.795579\n",
       "4              4.0     1.702710"
      ]
     },
     "metadata": {},
     "output_type": "display_data"
    },
    {
     "data": {
      "text/html": [
       "<small>schema: passenger_count:double,average_tip:double</small>"
      ],
      "text/plain": [
       "<IPython.core.display.HTML object>"
      ]
     },
     "metadata": {},
     "output_type": "display_data"
    }
   ],
   "source": [
    "%%fsql dask\n",
    "-- This is a SQL cell\n",
    "tempdf = SELECT passenger_count, AVG(tip_amount) AS average_tip\n",
    "           FROM taxi_df\n",
    "       GROUP BY passenger_count\n",
    "\n",
    "  SELECT *\n",
    "    FROM tempdf\n",
    "ORDER BY passenger_count ASC\n",
    "   LIMIT 5\n",
    "   PRINT"
   ]
  },
  {
   "cell_type": "markdown",
   "metadata": {},
   "source": [
    "## Basics of fugue-sql\n",
    "\n",
    "fugue-sql aims to make SQL easier to use. To support end-to-end workflows, some enhancements have been added. One of them is already visible above where we assigned a query to `tempdf` . This is similar to the SQL temp tables and common table expressions (CTEs)\n",
    "\n",
    "For familiar Dask users, this is a delayed execution that runs when `PRINT` is called. This happens because `fugue-sql` uses Dask, which constructs a Directed Acyclic Graph (DAG) to perform the operations lazily."
   ]
  },
  {
   "cell_type": "markdown",
   "metadata": {},
   "source": [
    "### Passing Python DataFrames to fugue-sql\n",
    "\n",
    "`fugue-sql` supports Python interoperatibility. DataFrames defined outside `%%fsql` cells can be used inside the SQL queries. In this example, we create an example DataFrame and use it inside a following `fugue-sql` code block."
   ]
  },
  {
   "cell_type": "code",
   "execution_count": 8,
   "metadata": {},
   "outputs": [],
   "source": [
    "example = pd.DataFrame({'a':[1,2,3],'b':[1,2,3]})"
   ]
  },
  {
   "cell_type": "markdown",
   "metadata": {},
   "source": [
    "### Passing fugue-sql results to Python\n",
    "\n",
    "By default, the DataFrames inside fugue-sql cells **will not be accessible** by Python cells (or even by succeeding fugue-sql cells). We have to use the `YIELD DATAFRAME` keyword to make a DataFrame available in memory. For significantly large DataFrames, we can use the `YIELD FILE` keyword. This saves the file in a temporary location and loads it when needed."
   ]
  },
  {
   "cell_type": "code",
   "execution_count": 9,
   "metadata": {},
   "outputs": [],
   "source": [
    "%%fsql\n",
    "SELECT * \n",
    "  FROM example\n",
    " WHERE a > 1\n",
    " YIELD DATAFRAME AS filtered_example"
   ]
  },
  {
   "cell_type": "code",
   "execution_count": 10,
   "metadata": {},
   "outputs": [
    {
     "data": {
      "text/html": [
       "<div>\n",
       "<style scoped>\n",
       "    .dataframe tbody tr th:only-of-type {\n",
       "        vertical-align: middle;\n",
       "    }\n",
       "\n",
       "    .dataframe tbody tr th {\n",
       "        vertical-align: top;\n",
       "    }\n",
       "\n",
       "    .dataframe thead th {\n",
       "        text-align: right;\n",
       "    }\n",
       "</style>\n",
       "<table border=\"1\" class=\"dataframe\">\n",
       "  <thead>\n",
       "    <tr style=\"text-align: right;\">\n",
       "      <th></th>\n",
       "      <th>a</th>\n",
       "      <th>b</th>\n",
       "    </tr>\n",
       "  </thead>\n",
       "  <tbody>\n",
       "    <tr>\n",
       "      <th>0</th>\n",
       "      <td>2</td>\n",
       "      <td>2</td>\n",
       "    </tr>\n",
       "    <tr>\n",
       "      <th>1</th>\n",
       "      <td>3</td>\n",
       "      <td>3</td>\n",
       "    </tr>\n",
       "  </tbody>\n",
       "</table>\n",
       "</div>"
      ],
      "text/plain": [
       "   a  b\n",
       "0  2  2\n",
       "1  3  3"
      ]
     },
     "metadata": {},
     "output_type": "display_data"
    },
    {
     "data": {
      "text/html": [
       "<small>schema: a:long,b:long</small>"
      ],
      "text/plain": [
       "<IPython.core.display.HTML object>"
      ]
     },
     "metadata": {},
     "output_type": "display_data"
    }
   ],
   "source": [
    "%%fsql\n",
    "-- Here we can use the YIELDED dataframe\n",
    "SELECT *\n",
    "  FROM filtered_example\n",
    " PRINT"
   ]
  },
  {
   "cell_type": "markdown",
   "metadata": {},
   "source": [
    "In the cell below, we use the same `YIELDED` DataFrame"
   ]
  },
  {
   "cell_type": "code",
   "execution_count": 11,
   "metadata": {
    "scrolled": true
   },
   "outputs": [
    {
     "data": {
      "text/html": [
       "<div>\n",
       "<style scoped>\n",
       "    .dataframe tbody tr th:only-of-type {\n",
       "        vertical-align: middle;\n",
       "    }\n",
       "\n",
       "    .dataframe tbody tr th {\n",
       "        vertical-align: top;\n",
       "    }\n",
       "\n",
       "    .dataframe thead th {\n",
       "        text-align: right;\n",
       "    }\n",
       "</style>\n",
       "<table border=\"1\" class=\"dataframe\">\n",
       "  <thead>\n",
       "    <tr style=\"text-align: right;\">\n",
       "      <th></th>\n",
       "      <th>a</th>\n",
       "      <th>b</th>\n",
       "    </tr>\n",
       "  </thead>\n",
       "  <tbody>\n",
       "    <tr>\n",
       "      <th>1</th>\n",
       "      <td>2</td>\n",
       "      <td>2</td>\n",
       "    </tr>\n",
       "    <tr>\n",
       "      <th>2</th>\n",
       "      <td>3</td>\n",
       "      <td>3</td>\n",
       "    </tr>\n",
       "  </tbody>\n",
       "</table>\n",
       "</div>"
      ],
      "text/plain": [
       "   a  b\n",
       "1  2  2\n",
       "2  3  3"
      ]
     },
     "execution_count": 11,
     "metadata": {},
     "output_type": "execute_result"
    }
   ],
   "source": [
    "# Using a YIELDED dataframe\n",
    "filtered_example.as_pandas().head()"
   ]
  },
  {
   "cell_type": "markdown",
   "metadata": {},
   "source": [
    "### Load and Save\n",
    "\n",
    "`fugue-sql`allows users to `LOAD` from csv/json/parquet files using Pandas and Dask under the hood. This means we can load in data, perform transformations on it, and then `SAVE` the results. Data analysts can now work on flat files with a language they are comfortable in. The cell below runs in Pandas because we don't specify the engine after `%%fsql`."
   ]
  },
  {
   "cell_type": "code",
   "execution_count": 12,
   "metadata": {},
   "outputs": [
    {
     "data": {
      "text/html": [
       "<div>\n",
       "<style scoped>\n",
       "    .dataframe tbody tr th:only-of-type {\n",
       "        vertical-align: middle;\n",
       "    }\n",
       "\n",
       "    .dataframe tbody tr th {\n",
       "        vertical-align: top;\n",
       "    }\n",
       "\n",
       "    .dataframe thead th {\n",
       "        text-align: right;\n",
       "    }\n",
       "</style>\n",
       "<table border=\"1\" class=\"dataframe\">\n",
       "  <thead>\n",
       "    <tr style=\"text-align: right;\">\n",
       "      <th></th>\n",
       "      <th>a</th>\n",
       "      <th>b</th>\n",
       "    </tr>\n",
       "  </thead>\n",
       "  <tbody>\n",
       "    <tr>\n",
       "      <th>0</th>\n",
       "      <td>1</td>\n",
       "      <td>1</td>\n",
       "    </tr>\n",
       "    <tr>\n",
       "      <th>1</th>\n",
       "      <td>2</td>\n",
       "      <td>2</td>\n",
       "    </tr>\n",
       "    <tr>\n",
       "      <th>2</th>\n",
       "      <td>3</td>\n",
       "      <td>3</td>\n",
       "    </tr>\n",
       "  </tbody>\n",
       "</table>\n",
       "</div>"
      ],
      "text/plain": [
       "   a  b\n",
       "0  1  1\n",
       "1  2  2\n",
       "2  3  3"
      ]
     },
     "metadata": {},
     "output_type": "display_data"
    },
    {
     "data": {
      "text/html": [
       "<small>schema: a:str,b:str</small>"
      ],
      "text/plain": [
       "<IPython.core.display.HTML object>"
      ]
     },
     "metadata": {},
     "output_type": "display_data"
    }
   ],
   "source": [
    "%%fsql\n",
    "SELECT * FROM example\n",
    "SAVE OVERWRITE \"/tmp/f.csv\" (header=TRUE)\n",
    "\n",
    "loaded_example = LOAD \"/tmp/f.csv\" (header=TRUE)\n",
    "PRINT "
   ]
  },
  {
   "cell_type": "markdown",
   "metadata": {},
   "source": [
    "### Jinja Templating"
   ]
  },
  {
   "cell_type": "markdown",
   "metadata": {},
   "source": [
    "Sometimes a Python variable will be needed inside a SQL block. Think of dynamic lists used to filter values in a DataFrame. In this case, Jinja templating can be used to pass a variable inside a fsql code block."
   ]
  },
  {
   "cell_type": "code",
   "execution_count": 13,
   "metadata": {},
   "outputs": [],
   "source": [
    "# This is a Python cell\n",
    "n = 1"
   ]
  },
  {
   "cell_type": "code",
   "execution_count": 14,
   "metadata": {},
   "outputs": [
    {
     "data": {
      "text/html": [
       "<div>\n",
       "<style scoped>\n",
       "    .dataframe tbody tr th:only-of-type {\n",
       "        vertical-align: middle;\n",
       "    }\n",
       "\n",
       "    .dataframe tbody tr th {\n",
       "        vertical-align: top;\n",
       "    }\n",
       "\n",
       "    .dataframe thead th {\n",
       "        text-align: right;\n",
       "    }\n",
       "</style>\n",
       "<table border=\"1\" class=\"dataframe\">\n",
       "  <thead>\n",
       "    <tr style=\"text-align: right;\">\n",
       "      <th></th>\n",
       "      <th>a</th>\n",
       "      <th>b</th>\n",
       "    </tr>\n",
       "  </thead>\n",
       "  <tbody>\n",
       "    <tr>\n",
       "      <th>0</th>\n",
       "      <td>1</td>\n",
       "      <td>1</td>\n",
       "    </tr>\n",
       "  </tbody>\n",
       "</table>\n",
       "</div>"
      ],
      "text/plain": [
       "   a  b\n",
       "0  1  1"
      ]
     },
     "metadata": {},
     "output_type": "display_data"
    },
    {
     "data": {
      "text/html": [
       "<small>schema: a:long,b:long</small>"
      ],
      "text/plain": [
       "<IPython.core.display.HTML object>"
      ]
     },
     "metadata": {},
     "output_type": "display_data"
    }
   ],
   "source": [
    "%%fsql\n",
    "SELECT *\n",
    "  FROM example\n",
    " WHERE a = {{n}}\n",
    " PRINT"
   ]
  },
  {
   "cell_type": "markdown",
   "metadata": {},
   "source": [
    "### Altering Schema\n",
    "\n",
    "Note that if we don't infer the schema, Pandas loads most columns as strings. We can use `ALTER COLUMNS` to change the schema. For DataFrames with a large number of columns, we recommend using `infer_schema=TRUE` and then `ALTER COLUMNS` to ensure the correct types."
   ]
  },
  {
   "cell_type": "code",
   "execution_count": 15,
   "metadata": {},
   "outputs": [],
   "source": [
    "%%fsql\n",
    "df = LOAD \"/tmp/f.csv\" (header = TRUE, infer_schema=TRUE)\n",
    "df = ALTER COLUMNS a:int, b:str FROM df"
   ]
  },
  {
   "cell_type": "markdown",
   "metadata": {},
   "source": [
    "### Anonymity and Inline\n",
    "\n",
    "Anonymity is when the DataFrame to perform the operation on is not specified. As a default, the output of the last operation will be used. This is a `fugue-sql` feature designed to simplify code. `PRINT` is an example of this.\n",
    "\n",
    "Inline statements are wrapping another SQL statement inside parenthesis so that they are evaluated first as part of an outer SQL statement. This is another option instead of assigning DataFrames into variables. Notice the `LOAD` statement below."
   ]
  },
  {
   "cell_type": "code",
   "execution_count": 16,
   "metadata": {},
   "outputs": [
    {
     "data": {
      "text/html": [
       "<div>\n",
       "<style scoped>\n",
       "    .dataframe tbody tr th:only-of-type {\n",
       "        vertical-align: middle;\n",
       "    }\n",
       "\n",
       "    .dataframe tbody tr th {\n",
       "        vertical-align: top;\n",
       "    }\n",
       "\n",
       "    .dataframe thead th {\n",
       "        text-align: right;\n",
       "    }\n",
       "</style>\n",
       "<table border=\"1\" class=\"dataframe\">\n",
       "  <thead>\n",
       "    <tr style=\"text-align: right;\">\n",
       "      <th></th>\n",
       "      <th>a</th>\n",
       "      <th>b</th>\n",
       "    </tr>\n",
       "  </thead>\n",
       "  <tbody>\n",
       "    <tr>\n",
       "      <th>0</th>\n",
       "      <td>1</td>\n",
       "      <td>1.0</td>\n",
       "    </tr>\n",
       "    <tr>\n",
       "      <th>1</th>\n",
       "      <td>2</td>\n",
       "      <td>2.0</td>\n",
       "    </tr>\n",
       "    <tr>\n",
       "      <th>2</th>\n",
       "      <td>3</td>\n",
       "      <td>3.0</td>\n",
       "    </tr>\n",
       "  </tbody>\n",
       "</table>\n",
       "</div>"
      ],
      "text/plain": [
       "   a    b\n",
       "0  1  1.0\n",
       "1  2  2.0\n",
       "2  3  3.0"
      ]
     },
     "metadata": {},
     "output_type": "display_data"
    },
    {
     "data": {
      "text/html": [
       "<small>schema: a:int,b:double</small>"
      ],
      "text/plain": [
       "<IPython.core.display.HTML object>"
      ]
     },
     "metadata": {},
     "output_type": "display_data"
    }
   ],
   "source": [
    "%%fsql\n",
    "df = SELECT * FROM (LOAD \"/tmp/f.csv\" (header=TRUE))\n",
    "ALTER COLUMNS a:int, b:double\n",
    "PRINT 5 ROWS"
   ]
  },
  {
   "cell_type": "markdown",
   "metadata": {},
   "source": [
    "## Sample Data Analysis\n",
    "\n",
    "Now that we have covered the basics, we will perform a simple analysis and show some more advance features such as integration Python code and utilizing the Dask execution engine more. First we start by displaying the head of our DataFrame."
   ]
  },
  {
   "cell_type": "code",
   "execution_count": 17,
   "metadata": {},
   "outputs": [
    {
     "data": {
      "text/html": [
       "<div>\n",
       "<style scoped>\n",
       "    .dataframe tbody tr th:only-of-type {\n",
       "        vertical-align: middle;\n",
       "    }\n",
       "\n",
       "    .dataframe tbody tr th {\n",
       "        vertical-align: top;\n",
       "    }\n",
       "\n",
       "    .dataframe thead th {\n",
       "        text-align: right;\n",
       "    }\n",
       "</style>\n",
       "<table border=\"1\" class=\"dataframe\">\n",
       "  <thead>\n",
       "    <tr style=\"text-align: right;\">\n",
       "      <th></th>\n",
       "      <th>VendorID</th>\n",
       "      <th>tpep_pickup_datetime</th>\n",
       "      <th>tpep_dropoff_datetime</th>\n",
       "      <th>passenger_count</th>\n",
       "      <th>trip_distance</th>\n",
       "      <th>RatecodeID</th>\n",
       "      <th>store_and_fwd_flag</th>\n",
       "      <th>PULocationID</th>\n",
       "      <th>DOLocationID</th>\n",
       "      <th>payment_type</th>\n",
       "      <th>fare_amount</th>\n",
       "      <th>extra</th>\n",
       "      <th>mta_tax</th>\n",
       "      <th>tip_amount</th>\n",
       "      <th>tolls_amount</th>\n",
       "      <th>improvement_surcharge</th>\n",
       "      <th>total_amount</th>\n",
       "      <th>congestion_surcharge</th>\n",
       "    </tr>\n",
       "  </thead>\n",
       "  <tbody>\n",
       "    <tr>\n",
       "      <th>0</th>\n",
       "      <td>1.0</td>\n",
       "      <td>2019-01-01 00:46:40</td>\n",
       "      <td>2019-01-01 00:53:20</td>\n",
       "      <td>1.0</td>\n",
       "      <td>1.5</td>\n",
       "      <td>1.0</td>\n",
       "      <td>N</td>\n",
       "      <td>151</td>\n",
       "      <td>239</td>\n",
       "      <td>1.0</td>\n",
       "      <td>7.0</td>\n",
       "      <td>0.5</td>\n",
       "      <td>0.5</td>\n",
       "      <td>1.65</td>\n",
       "      <td>0.00</td>\n",
       "      <td>0.3</td>\n",
       "      <td>9.95</td>\n",
       "      <td>None</td>\n",
       "    </tr>\n",
       "    <tr>\n",
       "      <th>1</th>\n",
       "      <td>1.0</td>\n",
       "      <td>2019-01-01 00:59:47</td>\n",
       "      <td>2019-01-01 01:18:59</td>\n",
       "      <td>1.0</td>\n",
       "      <td>2.6</td>\n",
       "      <td>1.0</td>\n",
       "      <td>N</td>\n",
       "      <td>239</td>\n",
       "      <td>246</td>\n",
       "      <td>1.0</td>\n",
       "      <td>14.0</td>\n",
       "      <td>0.5</td>\n",
       "      <td>0.5</td>\n",
       "      <td>1.00</td>\n",
       "      <td>0.00</td>\n",
       "      <td>0.3</td>\n",
       "      <td>16.30</td>\n",
       "      <td>None</td>\n",
       "    </tr>\n",
       "    <tr>\n",
       "      <th>2</th>\n",
       "      <td>2.0</td>\n",
       "      <td>2018-12-21 13:48:30</td>\n",
       "      <td>2018-12-21 13:52:40</td>\n",
       "      <td>3.0</td>\n",
       "      <td>0.0</td>\n",
       "      <td>1.0</td>\n",
       "      <td>N</td>\n",
       "      <td>236</td>\n",
       "      <td>236</td>\n",
       "      <td>1.0</td>\n",
       "      <td>4.5</td>\n",
       "      <td>0.5</td>\n",
       "      <td>0.5</td>\n",
       "      <td>0.00</td>\n",
       "      <td>0.00</td>\n",
       "      <td>0.3</td>\n",
       "      <td>5.80</td>\n",
       "      <td>None</td>\n",
       "    </tr>\n",
       "    <tr>\n",
       "      <th>3</th>\n",
       "      <td>2.0</td>\n",
       "      <td>2018-11-28 15:52:25</td>\n",
       "      <td>2018-11-28 15:55:45</td>\n",
       "      <td>5.0</td>\n",
       "      <td>0.0</td>\n",
       "      <td>1.0</td>\n",
       "      <td>N</td>\n",
       "      <td>193</td>\n",
       "      <td>193</td>\n",
       "      <td>2.0</td>\n",
       "      <td>3.5</td>\n",
       "      <td>0.5</td>\n",
       "      <td>0.5</td>\n",
       "      <td>0.00</td>\n",
       "      <td>0.00</td>\n",
       "      <td>0.3</td>\n",
       "      <td>7.55</td>\n",
       "      <td>None</td>\n",
       "    </tr>\n",
       "    <tr>\n",
       "      <th>4</th>\n",
       "      <td>2.0</td>\n",
       "      <td>2018-11-28 15:56:57</td>\n",
       "      <td>2018-11-28 15:58:33</td>\n",
       "      <td>5.0</td>\n",
       "      <td>0.0</td>\n",
       "      <td>2.0</td>\n",
       "      <td>N</td>\n",
       "      <td>193</td>\n",
       "      <td>193</td>\n",
       "      <td>2.0</td>\n",
       "      <td>52.0</td>\n",
       "      <td>0.0</td>\n",
       "      <td>0.5</td>\n",
       "      <td>0.00</td>\n",
       "      <td>0.00</td>\n",
       "      <td>0.3</td>\n",
       "      <td>55.55</td>\n",
       "      <td>None</td>\n",
       "    </tr>\n",
       "    <tr>\n",
       "      <th>5</th>\n",
       "      <td>2.0</td>\n",
       "      <td>2018-11-28 16:25:49</td>\n",
       "      <td>2018-11-28 16:28:26</td>\n",
       "      <td>5.0</td>\n",
       "      <td>0.0</td>\n",
       "      <td>1.0</td>\n",
       "      <td>N</td>\n",
       "      <td>193</td>\n",
       "      <td>193</td>\n",
       "      <td>2.0</td>\n",
       "      <td>3.5</td>\n",
       "      <td>0.5</td>\n",
       "      <td>0.5</td>\n",
       "      <td>0.00</td>\n",
       "      <td>5.76</td>\n",
       "      <td>0.3</td>\n",
       "      <td>13.31</td>\n",
       "      <td>None</td>\n",
       "    </tr>\n",
       "    <tr>\n",
       "      <th>6</th>\n",
       "      <td>2.0</td>\n",
       "      <td>2018-11-28 16:29:37</td>\n",
       "      <td>2018-11-28 16:33:43</td>\n",
       "      <td>5.0</td>\n",
       "      <td>0.0</td>\n",
       "      <td>2.0</td>\n",
       "      <td>N</td>\n",
       "      <td>193</td>\n",
       "      <td>193</td>\n",
       "      <td>2.0</td>\n",
       "      <td>52.0</td>\n",
       "      <td>0.0</td>\n",
       "      <td>0.5</td>\n",
       "      <td>0.00</td>\n",
       "      <td>0.00</td>\n",
       "      <td>0.3</td>\n",
       "      <td>55.55</td>\n",
       "      <td>None</td>\n",
       "    </tr>\n",
       "    <tr>\n",
       "      <th>7</th>\n",
       "      <td>1.0</td>\n",
       "      <td>2019-01-01 00:21:28</td>\n",
       "      <td>2019-01-01 00:28:37</td>\n",
       "      <td>1.0</td>\n",
       "      <td>1.3</td>\n",
       "      <td>1.0</td>\n",
       "      <td>N</td>\n",
       "      <td>163</td>\n",
       "      <td>229</td>\n",
       "      <td>1.0</td>\n",
       "      <td>6.5</td>\n",
       "      <td>0.5</td>\n",
       "      <td>0.5</td>\n",
       "      <td>1.25</td>\n",
       "      <td>0.00</td>\n",
       "      <td>0.3</td>\n",
       "      <td>9.05</td>\n",
       "      <td>None</td>\n",
       "    </tr>\n",
       "    <tr>\n",
       "      <th>8</th>\n",
       "      <td>1.0</td>\n",
       "      <td>2019-01-01 00:32:01</td>\n",
       "      <td>2019-01-01 00:45:39</td>\n",
       "      <td>1.0</td>\n",
       "      <td>3.7</td>\n",
       "      <td>1.0</td>\n",
       "      <td>N</td>\n",
       "      <td>229</td>\n",
       "      <td>7</td>\n",
       "      <td>1.0</td>\n",
       "      <td>13.5</td>\n",
       "      <td>0.5</td>\n",
       "      <td>0.5</td>\n",
       "      <td>3.70</td>\n",
       "      <td>0.00</td>\n",
       "      <td>0.3</td>\n",
       "      <td>18.50</td>\n",
       "      <td>None</td>\n",
       "    </tr>\n",
       "    <tr>\n",
       "      <th>9</th>\n",
       "      <td>1.0</td>\n",
       "      <td>2019-01-01 00:57:32</td>\n",
       "      <td>2019-01-01 01:09:32</td>\n",
       "      <td>2.0</td>\n",
       "      <td>2.1</td>\n",
       "      <td>1.0</td>\n",
       "      <td>N</td>\n",
       "      <td>141</td>\n",
       "      <td>234</td>\n",
       "      <td>1.0</td>\n",
       "      <td>10.0</td>\n",
       "      <td>0.5</td>\n",
       "      <td>0.5</td>\n",
       "      <td>1.70</td>\n",
       "      <td>0.00</td>\n",
       "      <td>0.3</td>\n",
       "      <td>13.00</td>\n",
       "      <td>None</td>\n",
       "    </tr>\n",
       "  </tbody>\n",
       "</table>\n",
       "</div>"
      ],
      "text/plain": [
       "   VendorID tpep_pickup_datetime tpep_dropoff_datetime  passenger_count  \\\n",
       "0       1.0  2019-01-01 00:46:40   2019-01-01 00:53:20              1.0   \n",
       "1       1.0  2019-01-01 00:59:47   2019-01-01 01:18:59              1.0   \n",
       "2       2.0  2018-12-21 13:48:30   2018-12-21 13:52:40              3.0   \n",
       "3       2.0  2018-11-28 15:52:25   2018-11-28 15:55:45              5.0   \n",
       "4       2.0  2018-11-28 15:56:57   2018-11-28 15:58:33              5.0   \n",
       "5       2.0  2018-11-28 16:25:49   2018-11-28 16:28:26              5.0   \n",
       "6       2.0  2018-11-28 16:29:37   2018-11-28 16:33:43              5.0   \n",
       "7       1.0  2019-01-01 00:21:28   2019-01-01 00:28:37              1.0   \n",
       "8       1.0  2019-01-01 00:32:01   2019-01-01 00:45:39              1.0   \n",
       "9       1.0  2019-01-01 00:57:32   2019-01-01 01:09:32              2.0   \n",
       "\n",
       "   trip_distance  RatecodeID store_and_fwd_flag  PULocationID  DOLocationID  \\\n",
       "0            1.5         1.0                  N           151           239   \n",
       "1            2.6         1.0                  N           239           246   \n",
       "2            0.0         1.0                  N           236           236   \n",
       "3            0.0         1.0                  N           193           193   \n",
       "4            0.0         2.0                  N           193           193   \n",
       "5            0.0         1.0                  N           193           193   \n",
       "6            0.0         2.0                  N           193           193   \n",
       "7            1.3         1.0                  N           163           229   \n",
       "8            3.7         1.0                  N           229             7   \n",
       "9            2.1         1.0                  N           141           234   \n",
       "\n",
       "   payment_type  fare_amount  extra  mta_tax  tip_amount  tolls_amount  \\\n",
       "0           1.0          7.0    0.5      0.5        1.65          0.00   \n",
       "1           1.0         14.0    0.5      0.5        1.00          0.00   \n",
       "2           1.0          4.5    0.5      0.5        0.00          0.00   \n",
       "3           2.0          3.5    0.5      0.5        0.00          0.00   \n",
       "4           2.0         52.0    0.0      0.5        0.00          0.00   \n",
       "5           2.0          3.5    0.5      0.5        0.00          5.76   \n",
       "6           2.0         52.0    0.0      0.5        0.00          0.00   \n",
       "7           1.0          6.5    0.5      0.5        1.25          0.00   \n",
       "8           1.0         13.5    0.5      0.5        3.70          0.00   \n",
       "9           1.0         10.0    0.5      0.5        1.70          0.00   \n",
       "\n",
       "   improvement_surcharge  total_amount congestion_surcharge  \n",
       "0                    0.3          9.95                 None  \n",
       "1                    0.3         16.30                 None  \n",
       "2                    0.3          5.80                 None  \n",
       "3                    0.3          7.55                 None  \n",
       "4                    0.3         55.55                 None  \n",
       "5                    0.3         13.31                 None  \n",
       "6                    0.3         55.55                 None  \n",
       "7                    0.3          9.05                 None  \n",
       "8                    0.3         18.50                 None  \n",
       "9                    0.3         13.00                 None  "
      ]
     },
     "metadata": {},
     "output_type": "display_data"
    },
    {
     "data": {
      "text/html": [
       "<small>schema: VendorID:double,tpep_pickup_datetime:str,tpep_dropoff_datetime:str,passenger_count:double,trip_distance:double,RatecodeID:double,store_and_fwd_flag:str,PULocationID:long,DOLocationID:long,payment_type:double,fare_amount:double,extra:double,mta_tax:double,tip_amount:double,tolls_amount:double,improvement_surcharge:double,total_amount:double,congestion_surcharge:double</small>"
      ],
      "text/plain": [
       "<IPython.core.display.HTML object>"
      ]
     },
     "metadata": {},
     "output_type": "display_data"
    }
   ],
   "source": [
    "%%fsql dask\n",
    "SELECT *\n",
    "  FROM taxi_df\n",
    " LIMIT 10 \n",
    " PRINT"
   ]
  },
  {
   "cell_type": "markdown",
   "metadata": {},
   "source": [
    "## Using Python Functions\n",
    "\n",
    "Here we will demonstrate using Python functions together with fugue-sql. Below we define a simple function that outputs a plot with the given `x_col` and `y_col`."
   ]
  },
  {
   "cell_type": "code",
   "execution_count": 18,
   "metadata": {},
   "outputs": [],
   "source": [
    "def seaborn_barplot(df: pd.DataFrame, x_col:str, y_col:str) -> None:\n",
    "    plt.figure(figsize=(10,6))\n",
    "    sns.barplot(df[x_col].astype('str').fillna(\"None\"), df[y_col])\n",
    "    plt.ylabel(y_col, fontsize=12)\n",
    "    plt.xlabel(x_col, fontsize=12)\n",
    "    plt.title(f\"{x_col} vs {y_col}\", fontsize=15)\n",
    "    plt.show()"
   ]
  },
  {
   "cell_type": "markdown",
   "metadata": {},
   "source": [
    "We can then use this function with the `OUTPUT` keyword. The `OUTPUT` keyword is for functions that don't return anything. To avoid passing a lot of data into seaborn, we will `SAMPLE` 10 percent of the data. This is an additional` fugue-sql` keyword. Also note the use of anonymity to use the Python function multiple times on the same DataFrame."
   ]
  },
  {
   "cell_type": "code",
   "execution_count": 19,
   "metadata": {},
   "outputs": [
    {
     "data": {
      "image/png": "[encoded data removed]",
      "text/plain": [
       "<Figure size 720x432 with 1 Axes>"
      ]
     },
     "metadata": {
      "needs_background": "light"
     },
     "output_type": "display_data"
    },
    {
     "data": {
      "image/png": "[encoded data removed]",
      "text/plain": [
       "<Figure size 720x432 with 1 Axes>"
      ]
     },
     "metadata": {
      "needs_background": "light"
     },
     "output_type": "display_data"
    },
    {
     "data": {
      "image/png": "[encoded data removed]",
      "text/plain": [
       "<Figure size 720x432 with 1 Axes>"
      ]
     },
     "metadata": {
      "needs_background": "light"
     },
     "output_type": "display_data"
    }
   ],
   "source": [
    "%%fsql dask\n",
    "SELECT payment_type, total_amount, congestion_surcharge, improvement_surcharge\n",
    "  FROM taxi_df\n",
    "SAMPLE 10 PERCENT SEED 42\n",
    "OUTPUT USING seaborn_barplot PARAMS (x_col:\"payment_type\", y_col:\"total_amount\")\n",
    "OUTPUT USING seaborn_barplot PARAMS (x_col: \"congestion_surcharge\", y_col:\"total_amount\")\n",
    "OUTPUT USING seaborn_barplot PARAMS (x_col: \"improvement_surcharge\", y_col:\"total_amount\")"
   ]
  },
  {
   "cell_type": "markdown",
   "metadata": {},
   "source": [
    "## Control Over Partitions\n",
    "\n",
    "In the previous plots, there is a weird relationship between **improvement_surcharge** and **total_amount** paid when **improvement_surcharge==0**. We can explore this by looking at the rows with high **total_amount** values.\n",
    "\n",
    "The `TAKE` keyword lets us return the whole row. We first `PREPARTITION` our data by **improvement_surcharge** values and then get the rows with the top 3 **total_amount** values. fugue-sql allows users to control the partitioning of data."
   ]
  },
  {
   "cell_type": "code",
   "execution_count": 20,
   "metadata": {},
   "outputs": [
    {
     "data": {
      "text/html": [
       "<div>\n",
       "<style scoped>\n",
       "    .dataframe tbody tr th:only-of-type {\n",
       "        vertical-align: middle;\n",
       "    }\n",
       "\n",
       "    .dataframe tbody tr th {\n",
       "        vertical-align: top;\n",
       "    }\n",
       "\n",
       "    .dataframe thead th {\n",
       "        text-align: right;\n",
       "    }\n",
       "</style>\n",
       "<table border=\"1\" class=\"dataframe\">\n",
       "  <thead>\n",
       "    <tr style=\"text-align: right;\">\n",
       "      <th></th>\n",
       "      <th>trip_distance</th>\n",
       "      <th>passenger_count</th>\n",
       "      <th>total_amount</th>\n",
       "      <th>improvement_surcharge</th>\n",
       "    </tr>\n",
       "  </thead>\n",
       "  <tbody>\n",
       "    <tr>\n",
       "      <th>0</th>\n",
       "      <td>0.00</td>\n",
       "      <td>1.0</td>\n",
       "      <td>356214.78</td>\n",
       "      <td>0.0</td>\n",
       "    </tr>\n",
       "    <tr>\n",
       "      <th>1</th>\n",
       "      <td>0.00</td>\n",
       "      <td>0.0</td>\n",
       "      <td>36090.30</td>\n",
       "      <td>0.0</td>\n",
       "    </tr>\n",
       "    <tr>\n",
       "      <th>2</th>\n",
       "      <td>0.00</td>\n",
       "      <td>0.0</td>\n",
       "      <td>34674.65</td>\n",
       "      <td>0.0</td>\n",
       "    </tr>\n",
       "    <tr>\n",
       "      <th>3</th>\n",
       "      <td>2.40</td>\n",
       "      <td>1.0</td>\n",
       "      <td>623261.66</td>\n",
       "      <td>0.3</td>\n",
       "    </tr>\n",
       "    <tr>\n",
       "      <th>4</th>\n",
       "      <td>0.10</td>\n",
       "      <td>1.0</td>\n",
       "      <td>6667.45</td>\n",
       "      <td>0.3</td>\n",
       "    </tr>\n",
       "    <tr>\n",
       "      <th>5</th>\n",
       "      <td>21.70</td>\n",
       "      <td>1.0</td>\n",
       "      <td>3345.30</td>\n",
       "      <td>0.3</td>\n",
       "    </tr>\n",
       "    <tr>\n",
       "      <th>6</th>\n",
       "      <td>2.57</td>\n",
       "      <td>1.0</td>\n",
       "      <td>13.86</td>\n",
       "      <td>0.6</td>\n",
       "    </tr>\n",
       "    <tr>\n",
       "      <th>7</th>\n",
       "      <td>0.00</td>\n",
       "      <td>1.0</td>\n",
       "      <td>-0.31</td>\n",
       "      <td>-0.3</td>\n",
       "    </tr>\n",
       "    <tr>\n",
       "      <th>8</th>\n",
       "      <td>0.00</td>\n",
       "      <td>1.0</td>\n",
       "      <td>-0.31</td>\n",
       "      <td>-0.3</td>\n",
       "    </tr>\n",
       "    <tr>\n",
       "      <th>9</th>\n",
       "      <td>0.00</td>\n",
       "      <td>0.0</td>\n",
       "      <td>-0.31</td>\n",
       "      <td>-0.3</td>\n",
       "    </tr>\n",
       "  </tbody>\n",
       "</table>\n",
       "</div>"
      ],
      "text/plain": [
       "   trip_distance  passenger_count  total_amount  improvement_surcharge\n",
       "0           0.00              1.0     356214.78                    0.0\n",
       "1           0.00              0.0      36090.30                    0.0\n",
       "2           0.00              0.0      34674.65                    0.0\n",
       "3           2.40              1.0     623261.66                    0.3\n",
       "4           0.10              1.0       6667.45                    0.3\n",
       "5          21.70              1.0       3345.30                    0.3\n",
       "6           2.57              1.0         13.86                    0.6\n",
       "7           0.00              1.0         -0.31                   -0.3\n",
       "8           0.00              1.0         -0.31                   -0.3\n",
       "9           0.00              0.0         -0.31                   -0.3"
      ]
     },
     "metadata": {},
     "output_type": "display_data"
    },
    {
     "data": {
      "text/html": [
       "<small>schema: trip_distance:double,passenger_count:double,total_amount:double,improvement_surcharge:double</small>"
      ],
      "text/plain": [
       "<IPython.core.display.HTML object>"
      ]
     },
     "metadata": {},
     "output_type": "display_data"
    }
   ],
   "source": [
    "%%fsql dask\n",
    "SELECT trip_distance, passenger_count, total_amount, improvement_surcharge\n",
    "  FROM taxi_df\n",
    "  TAKE 3 ROWS PREPARTITION BY improvement_surcharge PRESORT total_amount DESC\n",
    " PRINT"
   ]
  },
  {
   "cell_type": "markdown",
   "metadata": {},
   "source": [
    "## Using Custom Python Functions\n",
    "\n",
    "The previous table hints that there are uneven counts for each `improvement_surcharge` value. We can explore this by using a custom Python function\n",
    "\n",
    "We define the `value_counts` function below. Note that the schema hint comment is read and enforced to ensure that the output of the function matches the specified schema. "
   ]
  },
  {
   "cell_type": "code",
   "execution_count": 21,
   "metadata": {},
   "outputs": [],
   "source": [
    "# schema: value:str, count:int\n",
    "def value_counts(df: pd.DataFrame, col: str) -> pd.DataFrame:\n",
    "    out = df[[col]].value_counts().reset_index()\n",
    "    out.columns = ['value', 'count']\n",
    "    return out"
   ]
  },
  {
   "cell_type": "markdown",
   "metadata": {},
   "source": [
    "For functions that return another DataFrame, we use the `TRANSFORM` keyword. The output may be a bit different than expected. Note that we have multiple rows for the same `value`. This is because the function was applied over the default partitions, and returned the output for each partition."
   ]
  },
  {
   "cell_type": "code",
   "execution_count": 22,
   "metadata": {},
   "outputs": [
    {
     "data": {
      "text/html": [
       "<div>\n",
       "<style scoped>\n",
       "    .dataframe tbody tr th:only-of-type {\n",
       "        vertical-align: middle;\n",
       "    }\n",
       "\n",
       "    .dataframe tbody tr th {\n",
       "        vertical-align: top;\n",
       "    }\n",
       "\n",
       "    .dataframe thead th {\n",
       "        text-align: right;\n",
       "    }\n",
       "</style>\n",
       "<table border=\"1\" class=\"dataframe\">\n",
       "  <thead>\n",
       "    <tr style=\"text-align: right;\">\n",
       "      <th></th>\n",
       "      <th>value</th>\n",
       "      <th>count</th>\n",
       "    </tr>\n",
       "  </thead>\n",
       "  <tbody>\n",
       "    <tr>\n",
       "      <th>0</th>\n",
       "      <td>0.3</td>\n",
       "      <td>187510</td>\n",
       "    </tr>\n",
       "    <tr>\n",
       "      <th>1</th>\n",
       "      <td>-0.3</td>\n",
       "      <td>232</td>\n",
       "    </tr>\n",
       "    <tr>\n",
       "      <th>2</th>\n",
       "      <td>0.0</td>\n",
       "      <td>86</td>\n",
       "    </tr>\n",
       "    <tr>\n",
       "      <th>3</th>\n",
       "      <td>0.3</td>\n",
       "      <td>188497</td>\n",
       "    </tr>\n",
       "    <tr>\n",
       "      <th>4</th>\n",
       "      <td>-0.3</td>\n",
       "      <td>201</td>\n",
       "    </tr>\n",
       "    <tr>\n",
       "      <th>5</th>\n",
       "      <td>0.0</td>\n",
       "      <td>83</td>\n",
       "    </tr>\n",
       "  </tbody>\n",
       "</table>\n",
       "</div>"
      ],
      "text/plain": [
       "  value   count\n",
       "0   0.3  187510\n",
       "1  -0.3     232\n",
       "2   0.0      86\n",
       "3   0.3  188497\n",
       "4  -0.3     201\n",
       "5   0.0      83"
      ]
     },
     "metadata": {},
     "output_type": "display_data"
    },
    {
     "data": {
      "text/html": [
       "<small>schema: value:str,count:int</small>"
      ],
      "text/plain": [
       "<IPython.core.display.HTML object>"
      ]
     },
     "metadata": {},
     "output_type": "display_data"
    }
   ],
   "source": [
    "%%fsql dask\n",
    "SELECT * FROM taxi_df\n",
    "TRANSFORM USING value_counts PARAMS(col:\"improvement_surcharge\")\n",
    "PRINT 6 ROWS"
   ]
  },
  {
   "cell_type": "markdown",
   "metadata": {},
   "source": [
    "In order to fix the behavrior above, we need to specify the partitioning scheme before the operation is done. This can be specified within the `TRANSFORM` statement."
   ]
  },
  {
   "cell_type": "code",
   "execution_count": 23,
   "metadata": {},
   "outputs": [
    {
     "data": {
      "text/html": [
       "<div>\n",
       "<style scoped>\n",
       "    .dataframe tbody tr th:only-of-type {\n",
       "        vertical-align: middle;\n",
       "    }\n",
       "\n",
       "    .dataframe tbody tr th {\n",
       "        vertical-align: top;\n",
       "    }\n",
       "\n",
       "    .dataframe thead th {\n",
       "        text-align: right;\n",
       "    }\n",
       "</style>\n",
       "<table border=\"1\" class=\"dataframe\">\n",
       "  <thead>\n",
       "    <tr style=\"text-align: right;\">\n",
       "      <th></th>\n",
       "      <th>value</th>\n",
       "      <th>count</th>\n",
       "    </tr>\n",
       "  </thead>\n",
       "  <tbody>\n",
       "    <tr>\n",
       "      <th>0</th>\n",
       "      <td>0.6</td>\n",
       "      <td>1</td>\n",
       "    </tr>\n",
       "    <tr>\n",
       "      <th>1</th>\n",
       "      <td>0.0</td>\n",
       "      <td>2657</td>\n",
       "    </tr>\n",
       "    <tr>\n",
       "      <th>2</th>\n",
       "      <td>-0.3</td>\n",
       "      <td>7129</td>\n",
       "    </tr>\n",
       "    <tr>\n",
       "      <th>3</th>\n",
       "      <td>0.3</td>\n",
       "      <td>7658005</td>\n",
       "    </tr>\n",
       "  </tbody>\n",
       "</table>\n",
       "</div>"
      ],
      "text/plain": [
       "  value    count\n",
       "0   0.6        1\n",
       "1   0.0     2657\n",
       "2  -0.3     7129\n",
       "3   0.3  7658005"
      ]
     },
     "metadata": {},
     "output_type": "display_data"
    },
    {
     "data": {
      "text/html": [
       "<small>schema: value:str,count:int</small>"
      ],
      "text/plain": [
       "<IPython.core.display.HTML object>"
      ]
     },
     "metadata": {},
     "output_type": "display_data"
    }
   ],
   "source": [
    "%%fsql dask\n",
    "SELECT * FROM taxi_df\n",
    "TRANSFORM PREPARTITION BY improvement_surcharge \n",
    "USING value_counts PARAMS(col:\"improvement_surcharge\")\n",
    "PRINT"
   ]
  },
  {
   "cell_type": "markdown",
   "metadata": {},
   "source": [
    "## PREPARTITION and TRANSFORM\n",
    "\n",
    "Partitioning is a very important distributed computing concept. Because data lives on different machines in a distributed environment, some operations require all data in the same group to be collected on the same machine (sometimes even in a specific order). The most common example is getting the median value for each group. Another frequest use case is collecting timeseries by group and in order (think stock data). \n",
    "\n",
    "The `PREPARTITION` keyword of `fugue-sql` allows users to control the partitioning scheme. The `TRANSFORM` keyword lets users apply Python functions through `fugue-sql`. Together these two keywords build a semantic similar to the `groupby-apply` semantic in dask and make a lot of operations easier than using pure SQL."
   ]
  },
  {
   "cell_type": "markdown",
   "metadata": {},
   "source": [
    "## Deployment\n",
    "\n",
    "When ready to move from notebooks to Python scripts, the `fsql()` class can be used. The `run` method takes in the execution engine. If none is provided, Pandas is used. This is the same query used in the previous cell."
   ]
  },
  {
   "cell_type": "code",
   "execution_count": null,
   "metadata": {},
   "outputs": [],
   "source": [
    "from fugue_sql import fsql\n",
    "fsql(\"\"\"SELECT * \n",
    "        FROM taxi_df\n",
    "        TRANSFORM PREPARTITION BY improvement_surcharge \n",
    "        USING value_counts PARAMS(col:\"improvement_surcharge\")\n",
    "        PRINT\"\"\").run(\"dask\")"
   ]
  },
  {
   "cell_type": "markdown",
   "metadata": {},
   "source": [
    "## Conclusion\n",
    "\n",
    "Here we have shown an example of using `fugue-sql` with the Dask execution engine. `fugue-sql` is a language to express computation workflows through SQL. The expressed logic can then be run on Pandas, Dask or Spark, without having to change the code. There are enhancements over standard SQL that allow it to be used for full end-to-end workflows."
   ]
  },
  {
   "cell_type": "markdown",
   "metadata": {},
   "source": [
    "## More information\n",
    "\n",
    "We have only scratched the surface of `fugue` and `fugue-sql`. `fugue` is a pure abstraction layer that makes code portable across differing computing frameworks such as Pandas, Spark and Dask. It decouples logic from execution engines, allowing users to write code without worrying about the execution engine. All questions about `fugue` and distributed compute are welcome in the `fugue` Slack channel.\n",
    "\n",
    "[Fugue Repo](https://github.com/fugue-project/fugue)\n",
    "\n",
    "[Fugue Slack](https://join.slack.com/t/fugue-project/shared_invite/zt-jl0pcahu-KdlSOgi~fP50TZWmNxdWYQ)"
   ]
  }
 ],
 "metadata": {
  "kernelspec": {
   "display_name": "Python 3",
   "language": "python",
   "name": "python3"
  },
  "language_info": {
   "codemirror_mode": {
    "name": "ipython",
    "version": 3
   },
   "file_extension": ".py",
   "mimetype": "text/x-python",
   "name": "python",
   "nbconvert_exporter": "python",
   "pygments_lexer": "ipython3",
   "version": "3.7.9"
  }
 },
 "nbformat": 4,
 "nbformat_minor": 4
}
