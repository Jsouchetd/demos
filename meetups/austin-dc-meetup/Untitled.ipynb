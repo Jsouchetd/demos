{
 "cells": [
  {
   "cell_type": "markdown",
   "id": "a424f634",
   "metadata": {},
   "source": [
    "https://www.nike.com/t/air-max-270-womens-shoes-Pgb94t/AH6789-601"
   ]
  },
  {
   "cell_type": "code",
   "execution_count": null,
   "id": "45236088",
   "metadata": {},
   "outputs": [],
   "source": [
    "!pip install beautifulsoup4"
   ]
  },
  {
   "cell_type": "code",
   "execution_count": null,
   "id": "0a2addf6",
   "metadata": {},
   "outputs": [],
   "source": [
    "!pip install prefect==2.0b3"
   ]
  },
  {
   "cell_type": "code",
   "execution_count": 5,
   "id": "c3387d49",
   "metadata": {},
   "outputs": [],
   "source": [
    "from bs4 import BeautifulSoup\n",
    "import requests\n",
    "\n",
    "def get_nike_price(url):\n",
    "    page = requests.get(url).text\n",
    "    soup = BeautifulSoup(page,'html.parser')\n",
    "    price = soup.find('div',{\"class\":\"product-price\"}).text\n",
    "    price = int(price[1:])\n",
    "    return price"
   ]
  },
  {
   "cell_type": "code",
   "execution_count": 8,
   "id": "08b9572b",
   "metadata": {},
   "outputs": [],
   "source": [
    "def compare_price(price, budget):\n",
    "    if price <= budget:\n",
    "        print(f\"Buy the shoes! Good deal!\")\n",
    "    else:\n",
    "        print(f\"Don't buy the shoes.\")"
   ]
  },
  {
   "cell_type": "code",
   "execution_count": 10,
   "id": "6d5f48e7",
   "metadata": {},
   "outputs": [],
   "source": [
    "def main(url, budget):\n",
    "    price = get_nike_price(url)\n",
    "    compare_price(price, budget)"
   ]
  },
  {
   "cell_type": "code",
   "execution_count": 11,
   "id": "8d8073d8",
   "metadata": {},
   "outputs": [
    {
     "name": "stdout",
     "output_type": "stream",
     "text": [
      "Don't buy the shoes.\n"
     ]
    }
   ],
   "source": [
    "url = \"https://www.nike.com/t/air-max-270-womens-shoes-Pgb94t/AH6789-601\"\n",
    "budget = 120\n",
    "main(url, budget)"
   ]
  },
  {
   "cell_type": "code",
   "execution_count": null,
   "id": "70089d6d",
   "metadata": {},
   "outputs": [],
   "source": []
  }
 ],
 "metadata": {
  "kernelspec": {
   "display_name": "Python 3",
   "language": "python",
   "name": "python3"
  },
  "language_info": {
   "codemirror_mode": {
    "name": "ipython",
    "version": 3
   },
   "file_extension": ".py",
   "mimetype": "text/x-python",
   "name": "python",
   "nbconvert_exporter": "python",
   "pygments_lexer": "ipython3",
   "version": "3.8.5"
  }
 },
 "nbformat": 4,
 "nbformat_minor": 5
}
