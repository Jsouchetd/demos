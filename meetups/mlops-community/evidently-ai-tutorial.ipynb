{
 "cells": [
  {
   "cell_type": "markdown",
   "id": "835f6c93",
   "metadata": {},
   "source": [
    "# Evidently AI\n",
    "\n",
    "[Evidently AI docs](https://evidentlyai.com/)\n",
    "\n",
    "![img](https://static.tildacdn.com/tild3639-3565-4630-b864-323632336666/evidently_ai_logo_fi.png)"
   ]
  },
  {
   "cell_type": "code",
   "execution_count": null,
   "id": "39b7af76",
   "metadata": {},
   "outputs": [],
   "source": [
    "from utils import setup\n",
    "baseline, new_data = setup()"
   ]
  },
  {
   "cell_type": "code",
   "execution_count": null,
   "id": "b038675b",
   "metadata": {},
   "outputs": [],
   "source": [
    "from evidently.dashboard import Dashboard\n",
    "from evidently.dashboard.tabs import DataDriftTab, CatTargetDriftTab\n",
    "from evidently import ColumnMapping\n",
    "\n",
    "from evidently.model_profile import Profile\n",
    "from evidently.model_profile.sections import DataDriftProfileSection, CatTargetDriftProfileSection "
   ]
  },
  {
   "cell_type": "code",
   "execution_count": null,
   "id": "baf59573",
   "metadata": {},
   "outputs": [],
   "source": [
    "baseline.head()"
   ]
  },
  {
   "cell_type": "code",
   "execution_count": null,
   "id": "c96ed570",
   "metadata": {},
   "outputs": [],
   "source": [
    "baseline.drop([\"feature5\", \"feature8\"], axis=1, inplace=True)"
   ]
  },
  {
   "cell_type": "code",
   "execution_count": null,
   "id": "17e4b3d1",
   "metadata": {},
   "outputs": [],
   "source": [
    "new_data.drop([\"feature5\", \"feature8\"], axis=1, inplace=True)"
   ]
  },
  {
   "cell_type": "code",
   "execution_count": null,
   "id": "96681414",
   "metadata": {},
   "outputs": [],
   "source": [
    "target = 'cat'\n",
    "\n",
    "numerical_features = ['feature1','feature2','feature3','feature4','feature6']\n",
    "categorical_features = ['feature7']\n",
    "\n",
    "features = numerical_features + categorical_features\n",
    "\n",
    "column_mapping = ColumnMapping(target,\n",
    "                               'prediction',\n",
    "                               numerical_features=numerical_features,\n",
    "                               categorical_features=categorical_features)"
   ]
  },
  {
   "cell_type": "code",
   "execution_count": null,
   "id": "bc40064e",
   "metadata": {},
   "outputs": [],
   "source": [
    "target_drift_dashboard = Dashboard(tabs=[CatTargetDriftTab(verbose_level=1)])\n",
    "target_drift_dashboard.calculate(baseline, new_data, column_mapping=column_mapping)\n",
    "target_drift_dashboard.show(mode='inline')"
   ]
  },
  {
   "cell_type": "code",
   "execution_count": null,
   "id": "5bd6b7b6",
   "metadata": {},
   "outputs": [],
   "source": [
    "data_drift_dashboard = Dashboard(tabs=[DataDriftTab(verbose_level=1)])\n",
    "data_drift_dashboard.calculate(baseline, new_data, column_mapping=column_mapping)\n",
    "data_drift_dashboard.show(mode='inline')"
   ]
  },
  {
   "cell_type": "code",
   "execution_count": null,
   "id": "36a9d1c9",
   "metadata": {},
   "outputs": [],
   "source": [
    "data_drift_profile = Profile(sections=[DataDriftProfileSection(), CatTargetDriftProfileSection()])\n",
    "data_drift_profile.calculate(baseline, new_data, column_mapping=column_mapping)\n",
    "data_drift_profile.json()"
   ]
  },
  {
   "cell_type": "code",
   "execution_count": null,
   "id": "0ee575a0",
   "metadata": {},
   "outputs": [],
   "source": [
    "metrics = data_drift_profile.json()"
   ]
  }
 ],
 "metadata": {
  "kernelspec": {
   "display_name": "Python 3",
   "language": "python",
   "name": "python3"
  },
  "language_info": {
   "codemirror_mode": {
    "name": "ipython",
    "version": 3
   },
   "file_extension": ".py",
   "mimetype": "text/x-python",
   "name": "python",
   "nbconvert_exporter": "python",
   "pygments_lexer": "ipython3",
   "version": "3.8.5"
  }
 },
 "nbformat": 4,
 "nbformat_minor": 5
}
